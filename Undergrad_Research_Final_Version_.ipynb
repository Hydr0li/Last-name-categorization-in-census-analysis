{
 "cells": [
  {
   "cell_type": "markdown",
   "metadata": {},
   "source": [
    "## Last name categorization in census analysis\n",
    "#### Professor:  Melinda C. Miller\n",
    "#### Name: Haizhou Li\n",
    "#### Data: 2020-09"
   ]
  },
  {
   "cell_type": "code",
   "execution_count": 4,
   "metadata": {},
   "outputs": [
    {
     "name": "stdout",
     "output_type": "stream",
     "text": [
      "Requirement already satisfied: whoswho in /Users/haizhouli/anaconda3/lib/python3.7/site-packages (0.2.1)\r\n",
      "Requirement already satisfied: nameparser in /Users/haizhouli/anaconda3/lib/python3.7/site-packages (from whoswho) (1.0.6)\r\n"
     ]
    }
   ],
   "source": [
    "! pip install whoswho"
   ]
  },
  {
   "cell_type": "code",
   "execution_count": 5,
   "metadata": {},
   "outputs": [],
   "source": [
    "import pandas as pd\n",
    "import numpy as np\n",
    "from whoswho import who\n",
    "import datetime"
   ]
  },
  {
   "cell_type": "markdown",
   "metadata": {},
   "source": [
    "##### Data import and Data cleaning"
   ]
  },
  {
   "cell_type": "code",
   "execution_count": 6,
   "metadata": {},
   "outputs": [],
   "source": [
    "df = pd.read_csv(\"https://raw.githubusercontent.com/hydro9811/Name-Comparison-/main/Copy%20of%201900%20AI%20Names.csv\")\n",
    "names = pd.read_csv(\"https://raw.githubusercontent.com/hydro9811/Name-Comparison-/main/name.csv\")"
   ]
  },
  {
   "cell_type": "code",
   "execution_count": 7,
   "metadata": {},
   "outputs": [],
   "source": [
    "df2 = df"
   ]
  },
  {
   "cell_type": "code",
   "execution_count": 8,
   "metadata": {},
   "outputs": [],
   "source": [
    "# id is all the original names from census and title is the known name to compare\n",
    "id = df.name.map(str)\n",
    "title = names.title.map(str)"
   ]
  },
  {
   "cell_type": "code",
   "execution_count": 9,
   "metadata": {},
   "outputs": [],
   "source": [
    "df['dob'] = df['dob'].fillna(0)\n",
    "df['dob'] = df.dob.map(int)"
   ]
  },
  {
   "cell_type": "code",
   "execution_count": 10,
   "metadata": {},
   "outputs": [],
   "source": [
    "id2 = [df.name.iloc[i] for i in range(len(df.name))]\n",
    "title2 = [names.title.iloc[i] for i in range(len(names.title))]"
   ]
  },
  {
   "cell_type": "markdown",
   "metadata": {},
   "source": [
    "Seperate the catagories by region"
   ]
  },
  {
   "cell_type": "code",
   "execution_count": 11,
   "metadata": {},
   "outputs": [
    {
     "data": {
      "text/plain": [
       "used_in\n",
       "African and English speaking countries                                                                                                                               9\n",
       "African, Arabic and English speaking countries                                                                                                                       5\n",
       "African, Arabic, English and Swahili speaking countries                                                                                                              8\n",
       "African, Arabic, English, Hebrew and Swahili speaking countries                                                                                                      1\n",
       "African, Arabic, English, Hindi, Hungarian and Swahili speaking countries                                                                                            1\n",
       "African, Arabic, English, Swahili and Russian speaking countries                                                                                                     1\n",
       "African, Bulgarian, Croatian, Czech, English, Polish, Serbian, Spanish, Swahili and Russian speaking countries                                                       1\n",
       "African, English and Swahili speaking countries                                                                                                                      6\n",
       "African, English, German and Swahili speaking countries                                                                                                              1\n",
       "African, English, Hebrew and Polish speaking countries                                                                                                               1\n",
       "African, English, Hebrew and Swahili speaking countries                                                                                                              1\n",
       "African, English, Hindi and Swahili speaking countries                                                                                                               3\n",
       "Albanian, English, Greek and Russian speaking countries                                                                                                              1\n",
       "Arabic and English speaking countries                                                                                                                               42\n",
       "Arabic, Czech, English and Slovak speaking countries                                                                                                                 1\n",
       "Arabic, Czech, English, Hebrew, Hindi, Polish and Slovak speaking countries                                                                                          1\n",
       "Arabic, English and Greek speaking countries                                                                                                                         1\n",
       "Arabic, English and Hebrew speaking countries                                                                                                                        2\n",
       "Arabic, English and Hindi speaking countries                                                                                                                         4\n",
       "Arabic, English and Japanese speaking countries                                                                                                                      1\n",
       "Arabic, English and Persian speaking countries                                                                                                                       1\n",
       "Arabic, English and Polish speaking countries                                                                                                                        1\n",
       "Arabic, English and Swahili speaking countries                                                                                                                       1\n",
       "Arabic, English, French, Greek and Armenian speaking countries                                                                                                       1\n",
       "Arabic, English, Hindi and Spanish speaking countries                                                                                                                1\n",
       "Arabic, English, Portuguese, Spanish and Swahili speaking countries                                                                                                  1\n",
       "Bulgarian and English speaking countries                                                                                                                             3\n",
       "Bulgarian, Catalan, Czech, Dutch, English, Estonian, Finnish, German, Greek, Hindi, Hungarian, Italian, Japanese, Polish, Slovak and Armenian speaking countries     1\n",
       "Bulgarian, Croatian, Czech, Dutch, English, Hungarian, Polish, Romanian and Serbian speaking countries                                                               1\n",
       "Bulgarian, Croatian, English, Hindi, Portuguese, Romanian, Serbian and Spanish speaking countries                                                                    1\n",
       "                                                                                                                                                                    ..\n",
       "English, Hungarian, Italian, Polish, Portuguese, Romanian, Spanish and Armenian speaking countries                                                                   1\n",
       "English, Indonesian and Polish speaking countries                                                                                                                    1\n",
       "English, Italian and Polish speaking countries                                                                                                                       4\n",
       "English, Italian and Portuguese speaking countries                                                                                                                   1\n",
       "English, Italian and Spanish speaking countries                                                                                                                     15\n",
       "English, Italian, Polish and Spanish speaking countries                                                                                                              1\n",
       "English, Italian, Polish, Spanish and Russian speaking countries                                                                                                     1\n",
       "English, Italian, Portuguese and Spanish speaking countries                                                                                                         19\n",
       "English, Italian, Portuguese and Swedish speaking countries                                                                                                          1\n",
       "English, Italian, Portuguese, Romanian and Spanish speaking countries                                                                                                1\n",
       "English, Italian, Portuguese, Serbian and Spanish speaking countries                                                                                                 1\n",
       "English, Italian, Spanish and Swedish speaking countries                                                                                                             1\n",
       "English, Japanese and Welsh speaking countries                                                                                                                       1\n",
       "English, Japanese and Yiddish speaking countries                                                                                                                     1\n",
       "English, Japanese, Vietnamese and Welsh speaking countries                                                                                                           1\n",
       "English, Latvian and Lithuanian speaking countries                                                                                                                   1\n",
       "English, Norwegian and Icelandic speaking countries                                                                                                                  1\n",
       "English, Norwegian and Swedish speaking countries                                                                                                                    5\n",
       "English, Norwegian, Polish and Swedish speaking countries                                                                                                            1\n",
       "English, Norwegian, Spanish and Swedish speaking countries                                                                                                           1\n",
       "English, Polish and Slovak speaking countries                                                                                                                        1\n",
       "English, Polish and Spanish speaking countries                                                                                                                       2\n",
       "English, Polish, Spanish and Russian speaking countries                                                                                                              1\n",
       "English, Polish, Swahili and Russian speaking countries                                                                                                              1\n",
       "English, Portuguese and Spanish speaking countries                                                                                                                  17\n",
       "English, Portuguese, Spanish and Welsh speaking countries                                                                                                            1\n",
       "English, Romanian and Spanish speaking countries                                                                                                                     1\n",
       "English, Russian and Armenian speaking countries                                                                                                                     3\n",
       "English, Spanish and Swedish speaking countries                                                                                                                      2\n",
       "English, Ukrainian and Russian speaking countries                                                                                                                    1\n",
       "Length: 221, dtype: int64"
      ]
     },
     "execution_count": 11,
     "metadata": {},
     "output_type": "execute_result"
    }
   ],
   "source": [
    "gy = names.groupby('used_in')\n",
    "gy.size()"
   ]
  },
  {
   "cell_type": "code",
   "execution_count": 12,
   "metadata": {},
   "outputs": [],
   "source": [
    "groups = gy.describe()\n",
    "groups = list(groups.index)"
   ]
  },
  {
   "cell_type": "code",
   "execution_count": 13,
   "metadata": {},
   "outputs": [
    {
     "data": {
      "text/plain": [
       "['African and English speaking countries',\n",
       " 'African, Arabic and English speaking countries',\n",
       " 'African, Arabic, English and Swahili speaking countries',\n",
       " 'African, Arabic, English, Hebrew and Swahili speaking countries',\n",
       " 'African, Arabic, English, Hindi, Hungarian and Swahili speaking countries',\n",
       " 'African, Arabic, English, Swahili and Russian speaking countries',\n",
       " 'African, Bulgarian, Croatian, Czech, English, Polish, Serbian, Spanish, Swahili and Russian speaking countries',\n",
       " 'African, English and Swahili speaking countries',\n",
       " 'African, English, German and Swahili speaking countries',\n",
       " 'African, English, Hebrew and Polish speaking countries',\n",
       " 'African, English, Hebrew and Swahili speaking countries',\n",
       " 'African, English, Hindi and Swahili speaking countries',\n",
       " 'Albanian, English, Greek and Russian speaking countries',\n",
       " 'Arabic and English speaking countries',\n",
       " 'Arabic, Czech, English and Slovak speaking countries',\n",
       " 'Arabic, Czech, English, Hebrew, Hindi, Polish and Slovak speaking countries',\n",
       " 'Arabic, English and Greek speaking countries',\n",
       " 'Arabic, English and Hebrew speaking countries',\n",
       " 'Arabic, English and Hindi speaking countries',\n",
       " 'Arabic, English and Japanese speaking countries',\n",
       " 'Arabic, English and Persian speaking countries',\n",
       " 'Arabic, English and Polish speaking countries',\n",
       " 'Arabic, English and Swahili speaking countries',\n",
       " 'Arabic, English, French, Greek and Armenian speaking countries',\n",
       " 'Arabic, English, Hindi and Spanish speaking countries',\n",
       " 'Arabic, English, Portuguese, Spanish and Swahili speaking countries',\n",
       " 'Bulgarian and English speaking countries',\n",
       " 'Bulgarian, Catalan, Czech, Dutch, English, Estonian, Finnish, German, Greek, Hindi, Hungarian, Italian, Japanese, Polish, Slovak and Armenian speaking countries',\n",
       " 'Bulgarian, Croatian, Czech, Dutch, English, Hungarian, Polish, Romanian and Serbian speaking countries',\n",
       " 'Bulgarian, Croatian, English, Hindi, Portuguese, Romanian, Serbian and Spanish speaking countries',\n",
       " 'Bulgarian, Croatian, English, Hungarian, Polish, Portuguese, Serbian, Russian and Armenian speaking countries',\n",
       " 'Bulgarian, Czech, Dutch, English, German, Polish, Romanian and Spanish speaking countries',\n",
       " 'Bulgarian, Czech, Dutch, English, German, Romanian and Russian speaking countries',\n",
       " 'Bulgarian, Czech, English and Russian speaking countries',\n",
       " 'Bulgarian, Czech, English, Polish, Serbian, Slovak and Russian speaking countries',\n",
       " 'Bulgarian, English and Hebrew speaking countries',\n",
       " 'Bulgarian, English and Russian speaking countries',\n",
       " 'Bulgarian, English and Spanish speaking countries',\n",
       " 'Bulgarian, English, German, Greek, Italian, Polish, Portuguese, Serbian, Spanish and Russian speaking countries',\n",
       " 'Bulgarian, English, Greek, Lithuanian, Spanish and Russian speaking countries',\n",
       " 'Catalan and English speaking countries',\n",
       " 'Catalan, Dutch, English and German speaking countries',\n",
       " 'Catalan, Dutch, English, Estonian, German, Greek, Hungarian, Italian, Norwegian, Polish, Portuguese, Slovak, Spanish, Swedish and Armenian speaking countries',\n",
       " 'Catalan, English, French, Hungarian, Norwegian, Polish, Spanish, Swedish and Armenian speaking countries',\n",
       " 'Catalan, English, French, Spanish and Swedish speaking countries',\n",
       " 'Chinese and English speaking countries',\n",
       " 'Croatian, English and Serbian speaking countries',\n",
       " 'Croatian, English, German, Hungarian, Lithuanian, Serbian and Swedish speaking countries',\n",
       " 'Czech and English speaking countries',\n",
       " 'Czech, Danish, Dutch, English, French, German, Hungarian, Norwegian and Swedish speaking countries',\n",
       " 'Czech, Danish, English and German speaking countries',\n",
       " 'Czech, Danish, English, German, Hungarian, Norwegian, Slovak and Swedish speaking countries',\n",
       " 'Czech, Dutch, English, French and German speaking countries',\n",
       " 'Czech, Dutch, English, French, German, Hebrew, Polish, Portuguese, Romanian, Spanish and Armenian speaking countries',\n",
       " 'Czech, Dutch, English, German and Polish speaking countries',\n",
       " 'Czech, Dutch, English, German, Greek, Hungarian, Portuguese, Romanian, Slovak and Russian speaking countries',\n",
       " 'Czech, English, French and German speaking countries',\n",
       " 'Czech, English, German, Hungarian and Polish speaking countries',\n",
       " 'Czech, English, German, Hungarian, Polish, Romanian and Slovak speaking countries',\n",
       " 'Czech, English, German, Italian, Romanian and Spanish speaking countries',\n",
       " 'Czech, English, German, Latvian, Lithuanian, Norwegian and Polish speaking countries',\n",
       " 'Czech, English, Greek and Russian speaking countries',\n",
       " 'Czech, English, Hungarian, Japanese and Slovak speaking countries',\n",
       " 'Czech, English, Polish and Russian speaking countries',\n",
       " 'Czech, English, Polish, Romanian and Spanish speaking countries',\n",
       " 'Danish and English speaking countries',\n",
       " 'Danish, Dutch, English, French and Swedish speaking countries',\n",
       " 'Danish, Dutch, English, French, German, Norwegian and Swedish speaking countries',\n",
       " 'Danish, Dutch, English, German and Norwegian speaking countries',\n",
       " 'Danish, Dutch, English, Norwegian and Swedish speaking countries',\n",
       " 'Danish, English and French speaking countries',\n",
       " 'Danish, English and German speaking countries',\n",
       " 'Danish, English and Norwegian speaking countries',\n",
       " 'Danish, English and Swedish speaking countries',\n",
       " 'Danish, English, French and Norwegian speaking countries',\n",
       " 'Danish, English, German, Italian, Norwegian, Portuguese and Spanish speaking countries',\n",
       " 'Danish, English, German, Norwegian and Spanish speaking countries',\n",
       " 'Danish, English, German, Norwegian and Swedish speaking countries',\n",
       " 'Danish, English, Hindi and Spanish speaking countries',\n",
       " 'Danish, English, Italian, Portuguese, Romanian, Spanish and Swedish speaking countries',\n",
       " 'Dutch and English speaking countries',\n",
       " 'Dutch, English and French speaking countries',\n",
       " 'Dutch, English and German speaking countries',\n",
       " 'Dutch, English and Hebrew speaking countries',\n",
       " 'Dutch, English and Polish speaking countries',\n",
       " 'Dutch, English and Swedish speaking countries',\n",
       " 'Dutch, English, Estonian, German, Spanish and Armenian speaking countries',\n",
       " 'Dutch, English, Finnish and Swedish speaking countries',\n",
       " 'Dutch, English, Finnish, German, Japanese and Swedish speaking countries',\n",
       " 'Dutch, English, Finnish, Hindi and Swedish speaking countries',\n",
       " 'Dutch, English, French and German speaking countries',\n",
       " 'Dutch, English, French and Spanish speaking countries',\n",
       " 'Dutch, English, French, German and Norwegian speaking countries',\n",
       " 'Dutch, English, French, German and Portuguese speaking countries',\n",
       " 'Dutch, English, French, German and Swahili speaking countries',\n",
       " 'Dutch, English, French, Persian and Spanish speaking countries',\n",
       " 'Dutch, English, German and Hungarian speaking countries',\n",
       " 'Dutch, English, German and Polish speaking countries',\n",
       " 'Dutch, English, German, Hindi, Italian, Norwegian and Swedish speaking countries',\n",
       " 'Dutch, English, German, Hungarian and Slovak speaking countries',\n",
       " 'Dutch, English, German, Italian, Polish and Spanish speaking countries',\n",
       " 'Dutch, English, German, Norwegian and Swedish speaking countries',\n",
       " 'Dutch, English, German, Portuguese and Spanish speaking countries',\n",
       " 'Dutch, English, Italian and Spanish speaking countries',\n",
       " 'Dutch, English, Italian, Portuguese and Spanish speaking countries',\n",
       " 'English and Armenian speaking countries',\n",
       " 'English and Estonian speaking countries',\n",
       " 'English and Finnish speaking countries',\n",
       " 'English and French speaking countries',\n",
       " 'English and Gaelic speaking countries',\n",
       " 'English and German speaking countries',\n",
       " 'English and Greek speaking countries',\n",
       " 'English and Hawaiian speaking countries',\n",
       " 'English and Hebrew speaking countries',\n",
       " 'English and Hindi speaking countries',\n",
       " 'English and Hungarian speaking countries',\n",
       " 'English and Indonesian speaking countries',\n",
       " 'English and Italian speaking countries',\n",
       " 'English and Japanese speaking countries',\n",
       " 'English and Norwegian speaking countries',\n",
       " 'English and Persian speaking countries',\n",
       " 'English and Polish speaking countries',\n",
       " 'English and Portuguese speaking countries',\n",
       " 'English and Romanian speaking countries',\n",
       " 'English and Russian speaking countries',\n",
       " 'English and Slovak speaking countries',\n",
       " 'English and Spanish speaking countries',\n",
       " 'English and Swahili speaking countries',\n",
       " 'English and Swedish speaking countries',\n",
       " 'English and Turkish speaking countries',\n",
       " 'English and Urdu speaking countries',\n",
       " 'English and Vietnamese speaking countries',\n",
       " 'English and Welsh speaking countries',\n",
       " 'English and Yiddish speaking countries',\n",
       " 'English speaking countries',\n",
       " 'English, Estonian and German speaking countries',\n",
       " 'English, Finnish and German speaking countries',\n",
       " 'English, Finnish and Hindi speaking countries',\n",
       " 'English, Finnish and Japanese speaking countries',\n",
       " 'English, Finnish and Spanish speaking countries',\n",
       " 'English, Finnish, German, Italian, Portuguese and Spanish speaking countries',\n",
       " 'English, Finnish, German, Spanish and Swedish speaking countries',\n",
       " 'English, Finnish, Hindi, Italian and Spanish speaking countries',\n",
       " 'English, Finnish, Polish, Portuguese and Swedish speaking countries',\n",
       " 'English, French and Armenian speaking countries',\n",
       " 'English, French and German speaking countries',\n",
       " 'English, French and Greek speaking countries',\n",
       " 'English, French and Italian speaking countries',\n",
       " 'English, French and Norwegian speaking countries',\n",
       " 'English, French and Polish speaking countries',\n",
       " 'English, French and Spanish speaking countries',\n",
       " 'English, French and Swedish speaking countries',\n",
       " 'English, French and Welsh speaking countries',\n",
       " 'English, French, German and Greek speaking countries',\n",
       " 'English, French, German and Italian speaking countries',\n",
       " 'English, French, German and Polish speaking countries',\n",
       " 'English, French, German, Hebrew, Norwegian and Swedish speaking countries',\n",
       " 'English, French, German, Polish, Russian and Armenian speaking countries',\n",
       " 'English, French, Greek, Italian and Polish speaking countries',\n",
       " 'English, French, Greek, Italian, Polish, Portuguese and Spanish speaking countries',\n",
       " 'English, French, Hebrew and Japanese speaking countries',\n",
       " 'English, French, Hindi, Japanese and Spanish speaking countries',\n",
       " 'English, French, Portuguese and Spanish speaking countries',\n",
       " 'English, French, Spanish and Swedish speaking countries',\n",
       " 'English, Gaelic and Swedish speaking countries',\n",
       " 'English, German and Greek speaking countries',\n",
       " 'English, German and Hebrew speaking countries',\n",
       " 'English, German and Hindi speaking countries',\n",
       " 'English, German and Hungarian speaking countries',\n",
       " 'English, German and Italian speaking countries',\n",
       " 'English, German and Polish speaking countries',\n",
       " 'English, German and Spanish speaking countries',\n",
       " 'English, German, Greek and Italian speaking countries',\n",
       " 'English, German, Greek and Spanish speaking countries',\n",
       " 'English, German, Hungarian and Armenian speaking countries',\n",
       " 'English, German, Italian and Spanish speaking countries',\n",
       " 'English, German, Italian, Polish and Russian speaking countries',\n",
       " 'English, Greek and Hebrew speaking countries',\n",
       " 'English, Greek and Spanish speaking countries',\n",
       " 'English, Hebrew and Armenian speaking countries',\n",
       " 'English, Hebrew and Hindi speaking countries',\n",
       " 'English, Hebrew and Japanese speaking countries',\n",
       " 'English, Hebrew and Polish speaking countries',\n",
       " 'English, Hebrew and Spanish speaking countries',\n",
       " 'English, Hebrew, Hindi and Hungarian speaking countries',\n",
       " 'English, Hindi and Hawaiian speaking countries',\n",
       " 'English, Hindi and Indonesian speaking countries',\n",
       " 'English, Hindi and Russian speaking countries',\n",
       " 'English, Hindi and Welsh speaking countries',\n",
       " 'English, Hungarian and Italian speaking countries',\n",
       " 'English, Hungarian and Polish speaking countries',\n",
       " 'English, Hungarian, Italian, Polish, Portuguese, Romanian, Spanish and Armenian speaking countries',\n",
       " 'English, Indonesian and Polish speaking countries',\n",
       " 'English, Italian and Polish speaking countries',\n",
       " 'English, Italian and Portuguese speaking countries',\n",
       " 'English, Italian and Spanish speaking countries',\n",
       " 'English, Italian, Polish and Spanish speaking countries',\n",
       " 'English, Italian, Polish, Spanish and Russian speaking countries',\n",
       " 'English, Italian, Portuguese and Spanish speaking countries',\n",
       " 'English, Italian, Portuguese and Swedish speaking countries',\n",
       " 'English, Italian, Portuguese, Romanian and Spanish speaking countries',\n",
       " 'English, Italian, Portuguese, Serbian and Spanish speaking countries',\n",
       " 'English, Italian, Spanish and Swedish speaking countries',\n",
       " 'English, Japanese and Welsh speaking countries',\n",
       " 'English, Japanese and Yiddish speaking countries',\n",
       " 'English, Japanese, Vietnamese and Welsh speaking countries',\n",
       " 'English, Latvian and Lithuanian speaking countries',\n",
       " 'English, Norwegian and Icelandic speaking countries',\n",
       " 'English, Norwegian and Swedish speaking countries',\n",
       " 'English, Norwegian, Polish and Swedish speaking countries',\n",
       " 'English, Norwegian, Spanish and Swedish speaking countries',\n",
       " 'English, Polish and Slovak speaking countries',\n",
       " 'English, Polish and Spanish speaking countries',\n",
       " 'English, Polish, Spanish and Russian speaking countries',\n",
       " 'English, Polish, Swahili and Russian speaking countries',\n",
       " 'English, Portuguese and Spanish speaking countries',\n",
       " 'English, Portuguese, Spanish and Welsh speaking countries',\n",
       " 'English, Romanian and Spanish speaking countries',\n",
       " 'English, Russian and Armenian speaking countries',\n",
       " 'English, Spanish and Swedish speaking countries',\n",
       " 'English, Ukrainian and Russian speaking countries']"
      ]
     },
     "execution_count": 13,
     "metadata": {},
     "output_type": "execute_result"
    }
   ],
   "source": [
    "groups"
   ]
  },
  {
   "cell_type": "markdown",
   "metadata": {},
   "source": [
    "Focus on the regions to make the catagories fewer"
   ]
  },
  {
   "cell_type": "code",
   "execution_count": 14,
   "metadata": {},
   "outputs": [],
   "source": [
    "African_English = gy.get_group('African and English speaking countries').title.map(str)\n",
    "African_Arabic_English = gy.get_group('African, Arabic and English speaking countries').title.map(str)\n",
    "African_Arabic_English_Swahili = gy.get_group(\n",
    "    'African, Arabic, English and Swahili speaking countries').title.map(str)\n",
    "African_Arabic_English_Hebrew_Swahili = gy.get_group(\n",
    "    'African, Arabic, English, Hebrew and Swahili speaking countries').title.map(str)\n",
    "African_Arabic_English_Hindi_Hungarian_Swahili = gy.get_group(\n",
    "    'African, Arabic, English, Hindi, Hungarian and Swahili speaking countries').title.map(str)\n",
    "African_Arabic_English_Swahili_Russian = gy.get_group(\n",
    "    'African, Arabic, English, Swahili and Russian speaking countries').title.map(str)\n",
    "African_Bulgarian_Croatian_Czech_English_Polish_Serbian_Spanish_Swahili_Russian = gy.get_group(\n",
    "    'African, Bulgarian, Croatian, Czech, English, Polish, Serbian, Spanish, Swahili and Russian speaking countries').title.map(str)\n",
    "African_English_Swahili = gy.get_group('African, English and Swahili speaking countries').title.map(str)\n",
    "African_English_German_Swahili = gy.get_group('African, English, German and Swahili speaking countries').title.map(str)\n",
    "African_English_Hebrew_Polish = gy.get_group('African, English, Hebrew and Polish speaking countries').title.map(str)\n",
    "African_English_Hebrew_Swahili = gy.get_group('African, English, Hebrew and Swahili speaking countries').title.map(str)\n",
    "African_English_Hindi_Swahili = gy.get_group('African, English, Hindi and Swahili speaking countries').title.map(str)\n",
    "Albanian_English_Greek_Russian = gy.get_group('Albanian, English, Greek and Russian speaking countries').title\n",
    "Arabic_English = gy.get_group('Arabic and English speaking countries').title\n",
    "Arabic_Czech_English_Slovak = gy.get_group('Arabic, Czech, English and Slovak speaking countries').title\n",
    "Arabic_Czech_English_Hebrew_Hindi_Polish_Slovak = gy.get_group(\n",
    "    'Arabic, Czech, English, Hebrew, Hindi, Polish and Slovak speaking countries').title\n",
    "Arabic_English_Greek = gy.get_group('Arabic, English and Greek speaking countries').title\n",
    "Arabic_English_Hebrew = gy.get_group('Arabic, English and Hebrew speaking countries').title\n",
    "Arabic_English_Hindi = gy.get_group('Arabic, English and Hindi speaking countries').title\n",
    "Arabic_English_Japanese = gy.get_group('Arabic, English and Japanese speaking countries').title\n",
    "Arabic_English_Persian = gy.get_group('Arabic, English and Persian speaking countries').title\n",
    "Arabic_English_Polish = gy.get_group('Arabic, English and Polish speaking countries').title\n",
    "Arabic_English_Swahili = gy.get_group('Arabic, English and Swahili speaking countries').title\n",
    "Arabic_English_French_Greek_Armenian = gy.get_group(\n",
    "    'Arabic, English, French, Greek and Armenian speaking countries').title\n",
    "Arabic_English_Hindi_Spanish = gy.get_group('Arabic, English, Hindi and Spanish speaking countries').title\n",
    "Arabic_English_Portuguese_Spanish_Swahili = gy.get_group(\n",
    "    'Arabic, English, Portuguese, Spanish and Swahili speaking countries').title\n",
    "Bulgarian_English = gy.get_group('Bulgarian and English speaking countries').title\n",
    "Bulgarian_Catalan_Czech_Dutch_English_Estonian_Finnish_German_Greek_Hindi_Hungarian_Italian_Japanese_Polish_Slovak_Armenian = gy.get_group(\n",
    "    'Bulgarian, Catalan, Czech, Dutch, English, Estonian, Finnish, German, Greek, Hindi, Hungarian, Italian, Japanese, Polish, Slovak and Armenian speaking countries').title\n",
    "Bulgarian_Croatian_Czech_Dutch_English_Hungarian_Polish_Romanian_Serbian = gy.get_group(\n",
    "    'Bulgarian, Croatian, Czech, Dutch, English, Hungarian, Polish, Romanian and Serbian speaking countries').title\n",
    "Bulgarian_Croatian_English_Hindi_Portuguese_Romanian_Serbian_Spanish = gy.get_group(\n",
    "    'Bulgarian, Croatian, English, Hindi, Portuguese, Romanian, Serbian and Spanish speaking countries').title\n",
    "Bulgarian_Croatian_English_Hungarian_Polish_Portuguese_Serbian_Russian_Armenian = gy.get_group(groups[30]).title\n",
    "Bulgarian_Czech_Dutch_English_German_Polish_Romanian_Spanish = gy.get_group(groups[31]).title\n",
    "Bulgarian_Czech_Dutch_English_German_Romanian_Russian = gy.get_group(groups[32]).title\n",
    "Bulgarian_Czech_English_Russian = gy.get_group(groups[33]).title\n",
    "Bulgarian_Czech_English_Polish_Serbian_Slovak_Russian = gy.get_group(groups[34]).title\n",
    "Bulgarian_English_Hebrew = gy.get_group(groups[35]).title\n",
    "Bulgarian_English_Russian = gy.get_group(groups[36]).title\n",
    "Bulgarian_English_Spanish = gy.get_group(groups[37]).title\n",
    "Bulgarian_English_German_Greek_Italian_Polish_Portuguese_Serbian_Spanish_Russian = gy.get_group(groups[38]).title\n",
    "Bulgarian_English_Greek_Lithuanian_Spanish_Russian = gy.get_group(groups[39]).title\n",
    "Catalan_English = gy.get_group(groups[40]).title\n",
    "Catalan_Dutch_English_German = gy.get_group(groups[41]).title\n",
    "Catalan_Dutch_English_Estonian_German_Greek_Hungarian_Italian_Norwegian_Polish_Portuguese_Slovak_Spanish_Swedish_Armenian = gy.get_group(groups[42]).title\n",
    "Catalan_English_French_Hungarian_Norwegian_Polish_Spanish_Swedish_Armenian = gy.get_group(groups[43]).title\n",
    "Catalan_English_French_Spanish_Swedish = gy.get_group(groups[44]).title\n",
    "Chinese_English = gy.get_group(groups[45]).title\n",
    "Croatian_English_Serbian = gy.get_group(groups[46]).title\n",
    "Croatian_English_German_Hungarian_Lithuanian_Serbian_Swedish = gy.get_group(groups[47]).title\n",
    "Czech_English = gy.get_group(groups[48]).title\n",
    "Czech_Danish_Dutch_English_French_German_Hungarian_Norwegian_Swedish = gy.get_group(groups[49]).title\n",
    "Czech_Danish_English_German = gy.get_group(groups[50]).title\n",
    "Czech_Danish_English_German_Hungarian_Norwegian_Slovak_Swedish = gy.get_group(groups[51]).title\n",
    "Czech_Dutch_English_French_German = gy.get_group(groups[52]).title\n",
    "Czech_Dutch_English_French_German_Hebrew_Polish_Portuguese_Romanian_Spanish_Armenian = gy.get_group(groups[53]).title\n",
    "Czech_Dutch_English_German_Polish = gy.get_group(groups[54]).title\n",
    "Czech_Dutch_English_German_Greek_Hungarian_Portuguese_Romanian_Slovak_Russian = gy.get_group(groups[55]).title\n",
    "Czech_English_French_German = gy.get_group(groups[56]).title\n",
    "Czech_English_German_Hungarian_Polish = gy.get_group(groups[57]).title\n",
    "Czech_English_German_Hungarian_Polish_Romanian_Slovak = gy.get_group(groups[58]).title\n",
    "Czech_English_German_Italian_Romanian_Spanish = gy.get_group(groups[59]).title\n",
    "Czech_English_German_Latvian_Lithuanian_Norwegian_Polish = gy.get_group(groups[60]).title\n",
    "Czech_English_Greek_Russian = gy.get_group(groups[61]).title\n",
    "Czech_English_Hungarian_Japanese_Slovak = gy.get_group(groups[62]).title\n",
    "Czech_English_Polish_Russian = gy.get_group(groups[63]).title\n",
    "Czech_English_Polish_Romanian_Spanish = gy.get_group(groups[64]).title\n",
    "Danish_English = gy.get_group(groups[65]).title\n",
    "Danish_Dutch_English_French_Swedish = gy.get_group(groups[66]).title\n",
    "Danish_Dutch_English_French_German_Norwegian_Swedish = gy.get_group(groups[67]).title\n",
    "Danish_Dutch_English_German_Norwegian = gy.get_group(groups[68]).title\n",
    "Danish_Dutch_English_Norwegian_Swedish = gy.get_group(groups[69]).title\n",
    "Danish_English_French = gy.get_group(groups[70]).title\n",
    "Danish_English_German = gy.get_group(groups[71]).title\n",
    "Danish_English_Norwegian = gy.get_group(groups[72]).title\n",
    "Danish_English_Swedish = gy.get_group(groups[73]).title\n",
    "Danish_English_French_Norwegian = gy.get_group(groups[74]).title\n",
    "Danish_English_German_Italian_Norwegian_Portuguese_Spanish = gy.get_group(groups[75]).title\n",
    "Danish_English_German_Norwegian_Spanish = gy.get_group(groups[76]).title\n",
    "Danish_English_German_Norwegian_Swedish = gy.get_group(groups[77]).title\n",
    "Danish_English_Hindi_Spanish = gy.get_group(groups[78]).title\n",
    "Danish_English_Italian_Portuguese_Romanian_Spanish_Swedish = gy.get_group(groups[79]).title\n",
    "Dutch_English = gy.get_group(groups[80]).title\n",
    "Dutch_English_French = gy.get_group(groups[81]).title\n",
    "Dutch_English_German = gy.get_group(groups[82]).title\n",
    "Dutch_English_Hebrew = gy.get_group(groups[83]).title\n",
    "Dutch_English_Polish = gy.get_group(groups[84]).title\n",
    "Dutch_English_Swedish = gy.get_group(groups[85]).title\n",
    "Dutch_English_Estonian_German_Spanish_Armenian = gy.get_group(groups[86]).title\n",
    "Dutch_English_Finnish_Swedish = gy.get_group(groups[87]).title\n",
    "Dutch_English_Finnish_German_Japanese_Swedish = gy.get_group(groups[88]).title\n",
    "Dutch_English_Finnish_Hindi_Swedish = gy.get_group(groups[89]).title\n",
    "Dutch_English_French_German = gy.get_group(groups[90]).title\n",
    "Dutch_English_French_Spanish = gy.get_group(groups[91]).title\n",
    "Dutch_English_French_German_Norwegian = gy.get_group(groups[92]).title\n",
    "Dutch_English_French_German_Portuguese = gy.get_group(groups[93]).title\n",
    "Dutch_English_French_German_Swahili = gy.get_group(groups[94]).title\n",
    "Dutch_English_French_Persian_Spanish = gy.get_group(groups[95]).title\n",
    "Dutch_English_German_Hungarian = gy.get_group(groups[96]).title\n",
    "Dutch_English_German_Polish = gy.get_group(groups[97]).title\n",
    "Dutch_English_German_Hindi_Italian_Norwegian_Swedish = gy.get_group(groups[98]).title\n",
    "Dutch_English_German_Hungarian_Slovak = gy.get_group(groups[99]).title\n",
    "Dutch_English_German_Italian_Polish_Spanish = gy.get_group(groups[100]).title\n",
    "Dutch_English_German_Norwegian_Swedish = gy.get_group(groups[101]).title\n",
    "Dutch_English_German_Portuguese_Spanish = gy.get_group(groups[102]).title\n",
    "Dutch_English_Italian_Spanish = gy.get_group(groups[103]).title\n",
    "Dutch_English_Italian_Portuguese_Spanish = gy.get_group(groups[104]).title\n",
    "English_Armenian = gy.get_group(groups[105]).title\n",
    "English_Estonian = gy.get_group(groups[106]).title\n",
    "English_Finnish = gy.get_group(groups[107]).title\n",
    "English_French = gy.get_group(groups[108]).title\n",
    "English_Gaelic = gy.get_group(groups[109]).title\n",
    "English_German = gy.get_group(groups[110]).title\n",
    "English_Greek = gy.get_group(groups[111]).title\n",
    "English_Hawaiian = gy.get_group(groups[112]).title\n",
    "English_Hebrew = gy.get_group(groups[113]).title\n",
    "English_Hindi = gy.get_group(groups[114]).title\n",
    "English_Hungarian = gy.get_group(groups[115]).title\n",
    "English_Indonesian = gy.get_group(groups[116]).title\n",
    "English_Italian = gy.get_group(groups[117]).title\n",
    "English_Japanese = gy.get_group(groups[118]).title\n",
    "English_Norwegian = gy.get_group(groups[119]).title\n",
    "English_Persian = gy.get_group(groups[120]).title\n",
    "English_Polish = gy.get_group(groups[121]).title\n",
    "English_Portuguese = gy.get_group(groups[122]).title\n",
    "English_Romanian = gy.get_group(groups[123]).title\n",
    "English_Russian = gy.get_group(groups[124]).title\n",
    "English_Slovak = gy.get_group(groups[125]).title\n",
    "English_Spanish = gy.get_group(groups[126]).title\n",
    "English_Swahili = gy.get_group(groups[127]).title\n",
    "English_Swedish = gy.get_group(groups[128]).title\n",
    "English_Turkish = gy.get_group(groups[129]).title\n",
    "English_Urdu = gy.get_group(groups[130]).title\n",
    "English_Vietnamese = gy.get_group(groups[131]).title\n",
    "English_Welsh = gy.get_group(groups[132]).title\n",
    "English_Yiddish = gy.get_group(groups[133]).title\n",
    "English = gy.get_group(groups[134]).title\n",
    "English_Estonian_German = gy.get_group(groups[135]).title\n",
    "English_Finnish_German = gy.get_group(groups[136]).title\n",
    "English_Finnish_Hindi = gy.get_group(groups[137]).title\n",
    "English_Finnish_Japanese = gy.get_group(groups[138]).title\n",
    "English_Finnish_Spanish = gy.get_group(groups[139]).title\n",
    "English_Finnish_German_Italian_Portuguese_Spanish = gy.get_group(groups[140]).title\n",
    "English_Finnish_German_Spanish_Swedish = gy.get_group(groups[141]).title\n",
    "English_Finnish_Hindi_Italian_Spanish = gy.get_group(groups[142]).title\n",
    "English_Finnish_Polish_Portuguese_Swedish = gy.get_group(groups[143]).title\n",
    "English_French_Armenian = gy.get_group(groups[144]).title\n",
    "English_French_German = gy.get_group(groups[145]).title\n",
    "English_French_Greek = gy.get_group(groups[146]).title\n",
    "English_French_Italian = gy.get_group(groups[147]).title\n",
    "English_French_Norwegian = gy.get_group(groups[148]).title\n",
    "English_French_Polish = gy.get_group(groups[149]).title\n",
    "English_French_Spanish = gy.get_group(groups[150]).title\n",
    "English_French_Swedish = gy.get_group(groups[151]).title\n",
    "English_French_Welsh = gy.get_group(groups[152]).title\n",
    "English_French_German_Greek = gy.get_group(groups[153]).title\n",
    "English_French_German_Italian = gy.get_group(groups[154]).title\n",
    "English_French_German_Polish = gy.get_group(groups[155]).title\n",
    "English_French_German_Hebrew_Norwegian_Swedish = gy.get_group(groups[156]).title\n",
    "English_French_German_Polish_Russian_Armenian = gy.get_group(groups[157]).title\n",
    "English_French_Greek_Italian_Polish = gy.get_group(groups[158]).title\n",
    "English_French_Greek_Italian_Polish_Portuguese_Spanish = gy.get_group(groups[159]).title\n",
    "English_French_Hebrew_Japanese = gy.get_group(groups[160]).title\n",
    "English_French_Hindi_Japanese_Spanish = gy.get_group(groups[161]).title\n",
    "English_French_Portuguese_Spanish = gy.get_group(groups[162]).title\n",
    "English_French_Spanish_Swedish = gy.get_group(groups[163]).title\n",
    "English_Gaelic_Swedish = gy.get_group(groups[164]).title\n",
    "English_German_Greek = gy.get_group(groups[165]).title\n",
    "English_German_Hebrew = gy.get_group(groups[166]).title\n",
    "English_German_Hindi = gy.get_group(groups[167]).title\n",
    "English_German_Hungarian = gy.get_group(groups[168]).title\n",
    "English_German_Italian = gy.get_group(groups[169]).title\n",
    "English_German_Polish = gy.get_group(groups[170]).title\n",
    "English_German_Spanish = gy.get_group(groups[171]).title\n",
    "English_German_Greek_Italian = gy.get_group(groups[172]).title\n",
    "English_German_Greek_Spanish = gy.get_group(groups[173]).title\n",
    "English_German_Hungarian_Armenian = gy.get_group(groups[174]).title\n",
    "English_German_Italian_Spanish = gy.get_group(groups[175]).title\n",
    "English_German_Italian_Polish_Russian = gy.get_group(groups[176]).title\n",
    "English_Greek_Hebrew = gy.get_group(groups[177]).title\n",
    "English_Greek_Spanish = gy.get_group(groups[178]).title\n",
    "English_Hebrew_Armenian = gy.get_group(groups[179]).title\n",
    "English_Hebrew_Hindi = gy.get_group(groups[180]).title\n",
    "English_Hebrew_Japanese = gy.get_group(groups[181]).title\n",
    "English_Hebrew_Polish = gy.get_group(groups[182]).title\n",
    "English_Hebrew_Spanish = gy.get_group(groups[183]).title\n",
    "English_Hebrew_Hindi_Hungarian = gy.get_group(groups[184]).title\n",
    "English_Hindi_Hawaiian = gy.get_group(groups[185]).title\n",
    "English_Hindi_Indonesian = gy.get_group(groups[186]).title\n",
    "English_Hindi_Russian = gy.get_group(groups[187]).title\n",
    "English_Hindi_Welsh = gy.get_group(groups[188]).title\n",
    "English_Hungarian_Italian = gy.get_group(groups[189]).title\n",
    "English_Hungarian_Polish = gy.get_group(groups[190]).title\n",
    "English_Hungarian_Italian_Polish_Portuguese_Romanian_Spanish_Armenian = gy.get_group(groups[191]).title\n",
    "English_Indonesian_Polish = gy.get_group(groups[192]).title\n",
    "English_Italian_Polish = gy.get_group(groups[193]).title\n",
    "English_Italian_Portuguese = gy.get_group(groups[194]).title\n",
    "English_Italian_Spanish = gy.get_group(groups[195]).title\n",
    "English_Italian_Polish_Spanish = gy.get_group(groups[196]).title\n",
    "English_Italian_Polish_Spanish_Russian = gy.get_group(groups[197]).title\n",
    "English_Italian_Portuguese_Spanish = gy.get_group(groups[198]).title\n",
    "English_Italian_Portuguese_Swedish = gy.get_group(groups[199]).title\n",
    "English_Italian_Portuguese_Romanian_Spanish = gy.get_group(groups[200]).title\n",
    "English_Italian_Portuguese_Serbian_Spanish = gy.get_group(groups[201]).title\n",
    "English_Italian_Spanish_Swedish = gy.get_group(groups[202]).title\n",
    "English_Japanese_Welsh = gy.get_group(groups[203]).title\n",
    "English_Japanese_Yiddish = gy.get_group(groups[204]).title\n",
    "English_Japanese_Vietnamese_Welsh = gy.get_group(groups[205]).title\n",
    "English_Latvian_Lithuanian = gy.get_group(groups[206]).title\n",
    "English_Norwegian_Icelandic = gy.get_group(groups[207]).title\n",
    "English_Norwegian_Swedish = gy.get_group(groups[208]).title\n",
    "English_Norwegian_Polish_Swedish = gy.get_group(groups[209]).title\n",
    "English_Norwegian_Spanish_Swedish = gy.get_group(groups[210]).title\n",
    "English_Polish_Slovak = gy.get_group(groups[211]).title\n",
    "English_Polish_Spanish = gy.get_group(groups[212]).title\n",
    "English_Polish_Spanish_Russian = gy.get_group(groups[213]).title\n",
    "English_Polish_Swahili_Russian = gy.get_group(groups[214]).title\n",
    "English_Portuguese_Spanish = gy.get_group(groups[215]).title\n",
    "English_Portuguese_Spanish_Welsh = gy.get_group(groups[216]).title\n",
    "English_Romanian_Spanish = gy.get_group(groups[217]).title\n",
    "English_Russian_Armenian = gy.get_group(groups[218]).title\n",
    "English_Spanish_Swedish = gy.get_group(groups[219]).title\n",
    "English_Ukrainian_Russian = gy.get_group(groups[220]).title"
   ]
  },
  {
   "cell_type": "code",
   "execution_count": 15,
   "metadata": {},
   "outputs": [],
   "source": [
    "african = African_Arabic_English.append(African_Arabic_English_Hebrew_Swahili).append(\n",
    "    African_Arabic_English_Hindi_Hungarian_Swahili).append(African_Arabic_English_Swahili).append(\n",
    "    African_Arabic_English_Swahili_Russian).append(\n",
    "    African_Bulgarian_Croatian_Czech_English_Polish_Serbian_Spanish_Swahili_Russian).append(African_English).append(\n",
    "    African_English_German_Swahili).append(African_English_Hebrew_Polish).append(African_English_Hebrew_Swahili)\n",
    "\n",
    "albanian = Albanian_English_Greek_Russian\n",
    "\n",
    "arabic = Arabic_Czech_English_Hebrew_Hindi_Polish_Slovak.append(Arabic_Czech_English_Slovak).append(\n",
    "    Arabic_English).append(Arabic_English_French_Greek_Armenian).append(Arabic_English_Greek).append(\n",
    "    Arabic_English_Hebrew).append(Arabic_English_Hindi).append(Arabic_English_Hindi_Spanish).append(\n",
    "    Arabic_English_Japanese).append(Arabic_English_Persian).append(Arabic_English_Polish).append(\n",
    "    Arabic_English_Portuguese_Spanish_Swahili).append(Arabic_English_Swahili)\n",
    "\n",
    "bulgarian = Bulgarian_Catalan_Czech_Dutch_English_Estonian_Finnish_German_Greek_Hindi_Hungarian_Italian_Japanese_Polish_Slovak_Armenian.append(\n",
    "    Bulgarian_Croatian_Czech_Dutch_English_Hungarian_Polish_Romanian_Serbian).append(\n",
    "    Bulgarian_Croatian_English_Hindi_Portuguese_Romanian_Serbian_Spanish).append(\n",
    "    Bulgarian_Croatian_English_Hungarian_Polish_Portuguese_Serbian_Russian_Armenian).append(\n",
    "    Bulgarian_Czech_Dutch_English_German_Polish_Romanian_Spanish).append(\n",
    "    Bulgarian_Czech_Dutch_English_German_Romanian_Russian).append(\n",
    "    Bulgarian_Czech_English_Polish_Serbian_Slovak_Russian).append(Bulgarian_Czech_English_Russian).append(\n",
    "    Bulgarian_English).append(Bulgarian_English_German_Greek_Italian_Polish_Portuguese_Serbian_Spanish_Russian).append(\n",
    "    Bulgarian_English_Greek_Lithuanian_Spanish_Russian).append(Bulgarian_English_Hebrew).append(\n",
    "    Bulgarian_English_Russian).append(Bulgarian_English_Spanish)\n",
    "\n",
    "catalan = Catalan_Dutch_English_Estonian_German_Greek_Hungarian_Italian_Norwegian_Polish_Portuguese_Slovak_Spanish_Swedish_Armenian.append(\n",
    "    Catalan_Dutch_English_German).append(Catalan_English).append(\n",
    "    Catalan_English_French_Hungarian_Norwegian_Polish_Spanish_Swedish_Armenian).append(\n",
    "    Catalan_English_French_Spanish_Swedish)\n",
    "\n",
    "chinese = Chinese_English\n",
    "\n",
    "croatian = Croatian_English_German_Hungarian_Lithuanian_Serbian_Swedish.append(Croatian_English_Serbian)\n",
    "\n",
    "czech = Czech_Danish_Dutch_English_French_German_Hungarian_Norwegian_Swedish.append(Czech_Danish_English_German).append(\n",
    "    Czech_Danish_English_German_Hungarian_Norwegian_Slovak_Swedish).append(Czech_Dutch_English_French_German).append(\n",
    "    Czech_Dutch_English_French_German_Hebrew_Polish_Portuguese_Romanian_Spanish_Armenian).append(\n",
    "    Czech_Dutch_English_German_Greek_Hungarian_Portuguese_Romanian_Slovak_Russian).append(\n",
    "    Czech_Dutch_English_German_Polish).append(Czech_English).append(Czech_English_French_German).append(\n",
    "    Czech_English_German_Hungarian_Polish).append(Czech_English_German_Hungarian_Polish_Romanian_Slovak).append(\n",
    "    Czech_English_German_Italian_Romanian_Spanish).append(Czech_English_German_Latvian_Lithuanian_Norwegian_Polish).append(\n",
    "    Czech_English_Greek_Russian).append(Czech_English_Hungarian_Japanese_Slovak).append(\n",
    "    Czech_English_Polish_Romanian_Spanish).append(Czech_English_Polish_Russian)\n",
    "\n",
    "danish = Danish_Dutch_English_French_German_Norwegian_Swedish.append(Danish_Dutch_English_French_Swedish).append(\n",
    "    Danish_Dutch_English_German_Norwegian).append(Danish_Dutch_English_Norwegian_Swedish).append(Danish_English).append(\n",
    "    Danish_English_French).append(Danish_English_French_Norwegian).append(Danish_English_German).append(\n",
    "    Danish_English_German_Italian_Norwegian_Portuguese_Spanish).append(Danish_English_German_Norwegian_Spanish).append(\n",
    "    Danish_English_German_Norwegian_Swedish).append(Danish_English_Hindi_Spanish).append(\n",
    "    Danish_English_Italian_Portuguese_Romanian_Spanish_Swedish).append(Danish_English_Norwegian).append(\n",
    "    Danish_English_Swedish)\n",
    "\n",
    "dutch = Dutch_English.append(Dutch_English_Estonian_German_Spanish_Armenian).append(\n",
    "    Dutch_English_Finnish_German_Japanese_Swedish).append(Dutch_English_Finnish_Hindi_Swedish).append(\n",
    "    Dutch_English_Finnish_Swedish).append(Dutch_English_French).append(Dutch_English_French_German).append(\n",
    "    Dutch_English_French_German_Norwegian).append(Dutch_English_French_German_Portuguese).append(\n",
    "    Dutch_English_French_German_Swahili).append(Dutch_English_French_Persian_Spanish).append(\n",
    "    Dutch_English_French_Spanish).append(Dutch_English_German).append(\n",
    "    Dutch_English_German_Hindi_Italian_Norwegian_Swedish).append(Dutch_English_German_Hungarian).append(\n",
    "    Dutch_English_German_Hungarian_Slovak).append(Dutch_English_German_Italian_Polish_Spanish).append(\n",
    "    Dutch_English_German_Norwegian_Swedish).append(Dutch_English_German_Polish).append(\n",
    "    Dutch_English_German_Portuguese_Spanish).append(Dutch_English_Hebrew).append(\n",
    "    Dutch_English_Italian_Portuguese_Spanish).append(Dutch_English_Italian_Spanish).append(Dutch_English_Polish).append(\n",
    "    Dutch_English_Polish)\n",
    "\n",
    "armenian = English_Armenian\n",
    "\n",
    "estonian = English_Estonian.append(English_Estonian_German)\n",
    "\n",
    "finnish = English_Finnish.append(English_Finnish_German).append(English_Finnish_German_Italian_Portuguese_Spanish).append(\n",
    "    English_Finnish_German_Spanish_Swedish).append(English_Finnish_Hindi).append(English_Finnish_Hindi_Italian_Spanish).append(\n",
    "    English_Finnish_Japanese).append(English_Finnish_Polish_Portuguese_Swedish).append(English_Finnish_Spanish)\n",
    "\n",
    "french = English_French.append(English_French_Armenian).append(English_French_German).append(\n",
    "    English_French_German_Greek).append(English_French_German_Hebrew_Norwegian_Swedish).append(\n",
    "    English_French_German_Italian).append(English_French_German_Polish).append(\n",
    "    English_French_German_Polish_Russian_Armenian).append(English_French_Greek).append(\n",
    "    English_French_Greek_Italian_Polish).append(English_French_Greek_Italian_Polish_Portuguese_Spanish).append(\n",
    "    English_French_Hebrew_Japanese).append(English_French_Hindi_Japanese_Spanish).append(English_French_Italian).append(\n",
    "    English_French_Norwegian).append(English_French_Polish).append(English_French_Portuguese_Spanish).append(\n",
    "    English_French_Spanish).append(English_French_Spanish_Swedish).append(English_French_Swedish).append(\n",
    "    English_French_Welsh)\n",
    "\n",
    "gaelic = English_Gaelic.append(English_Gaelic_Swedish)\n",
    "\n",
    "german = English_German.append(English_German_Greek).append(English_German_Greek_Italian).append(\n",
    "    English_German_Greek_Spanish).append(English_German_Hebrew).append(English_German_Hindi).append(\n",
    "    English_German_Hungarian).append(English_German_Hungarian_Armenian).append(English_German_Italian).append(\n",
    "    English_German_Italian_Polish_Russian).append(English_German_Italian_Spanish).append(English_German_Polish).append(\n",
    "    English_German_Spanish)\n",
    "\n",
    "greek = English_Greek.append(English_Greek_Hebrew).append(English_Greek_Spanish)\n",
    "\n",
    "hawaiian = English_Hawaiian\n",
    "\n",
    "hebrew = English_Hebrew.append(English_Hebrew_Armenian).append(English_Hebrew_Hindi).append(\n",
    "    English_Hebrew_Hindi_Hungarian).append(English_Hebrew_Japanese).append(English_Hebrew_Polish).append(\n",
    "    English_Hebrew_Spanish)\n",
    "\n",
    "hindi = English_Hindi.append(English_Hindi_Hawaiian).append(English_Hindi_Indonesian).append(English_Hindi_Russian).append(\n",
    "    English_Hindi_Welsh)\n",
    "\n",
    "hungarian = English_Hungarian.append(English_Hungarian_Italian).append(\n",
    "    English_Hungarian_Italian_Polish_Portuguese_Romanian_Spanish_Armenian).append(English_Hungarian_Polish)\n",
    "\n",
    "indonesian = English_Indonesian.append(English_Indonesian_Polish)\n",
    "\n",
    "italian = English_Italian.append(English_Italian_Polish).append(English_Italian_Polish_Spanish).append(\n",
    "    English_Italian_Polish_Spanish_Russian).append(English_Italian_Portuguese).append(\n",
    "    English_Italian_Portuguese_Romanian_Spanish).append(English_Italian_Portuguese_Serbian_Spanish).append(\n",
    "    English_Italian_Portuguese_Spanish).append(English_Italian_Portuguese_Swedish).append(\n",
    "    English_Italian_Spanish).append(English_Italian_Spanish_Swedish)\n",
    "\n",
    "japanese = English_Japanese.append(English_Japanese_Vietnamese_Welsh).append(English_Japanese_Welsh).append(\n",
    "    English_Japanese_Yiddish)\n",
    "\n",
    "norwegian = English_Norwegian.append(English_Norwegian_Icelandic).append(English_Norwegian_Polish_Swedish).append(\n",
    "    English_Norwegian_Spanish_Swedish).append(English_Norwegian_Swedish)\n",
    "\n",
    "persian = English_Persian\n",
    "\n",
    "polish = English_Polish.append(English_Polish_Slovak).append(English_Polish_Spanish).append(\n",
    "    English_Polish_Spanish_Russian).append(English_Polish_Swahili_Russian)\n",
    "\n",
    "portuguese = English_Portuguese.append(English_Portuguese_Spanish).append(English_Portuguese_Spanish_Welsh)\n",
    "\n",
    "romanian = English_Romanian.append(English_Romanian_Spanish)\n",
    "\n",
    "russian = English_Russian.append(English_Russian_Armenian)\n",
    "\n",
    "slovak = English_Slovak\n",
    "\n",
    "spanish = English_Spanish.append(English_Spanish_Swedish)\n",
    "\n",
    "swahili = English_Swahili\n",
    "\n",
    "swedish = English_Swedish\n",
    "\n",
    "turkish = English_Turkish\n",
    "\n",
    "urdu = English_Urdu\n",
    "\n",
    "vietnamese = English_Vietnamese\n",
    "\n",
    "welsh = English_Welsh\n",
    "\n",
    "yiddish = English_Yiddish\n",
    "\n",
    "english = English\n",
    "\n",
    "latvian = English_Latvian_Lithuanian\n",
    "\n",
    "ukrainian = English_Ukrainian_Russian"
   ]
  },
  {
   "cell_type": "code",
   "execution_count": 16,
   "metadata": {},
   "outputs": [],
   "source": [
    "df2 = df2.drop(['1 for Euro Name: Original', 'European Name'], axis=1)"
   ]
  },
  {
   "cell_type": "code",
   "execution_count": 17,
   "metadata": {},
   "outputs": [],
   "source": [
    "#42 catagories\n",
    "l = ['african', 'albanian', 'arabic', 'bulgarian', 'catalan', 'chinese', 'croatian', 'czech', 'danish', 'dutch'\n",
    "     , 'armenian', 'estonian', 'finnish', 'french', 'gaelic', 'german', 'greek', 'hawaiian', 'hebrew', 'hindi'\n",
    "     , 'hungarian', 'indonesian', 'italian', 'japanese', 'norwegian', 'persian', 'polish', 'portuguese', 'romanian'\n",
    "     , 'russian', 'slovak', 'spanish', 'swahili', 'swedish', 'turkish', 'urdu', 'vietnamese', 'welsh', 'yiddish'\n",
    "     , 'english', 'latvian', 'ukrainian']\n",
    "for col in l:\n",
    "    df2[col] = 0"
   ]
  },
  {
   "cell_type": "code",
   "execution_count": 18,
   "metadata": {},
   "outputs": [
    {
     "data": {
      "text/html": [
       "<div>\n",
       "<style scoped>\n",
       "    .dataframe tbody tr th:only-of-type {\n",
       "        vertical-align: middle;\n",
       "    }\n",
       "\n",
       "    .dataframe tbody tr th {\n",
       "        vertical-align: top;\n",
       "    }\n",
       "\n",
       "    .dataframe thead th {\n",
       "        text-align: right;\n",
       "    }\n",
       "</style>\n",
       "<table border=\"1\" class=\"dataframe\">\n",
       "  <thead>\n",
       "    <tr style=\"text-align: right;\">\n",
       "      <th></th>\n",
       "      <th>ID</th>\n",
       "      <th>name</th>\n",
       "      <th>city</th>\n",
       "      <th>dob</th>\n",
       "      <th>african</th>\n",
       "      <th>albanian</th>\n",
       "      <th>arabic</th>\n",
       "      <th>bulgarian</th>\n",
       "      <th>catalan</th>\n",
       "      <th>chinese</th>\n",
       "      <th>...</th>\n",
       "      <th>swahili</th>\n",
       "      <th>swedish</th>\n",
       "      <th>turkish</th>\n",
       "      <th>urdu</th>\n",
       "      <th>vietnamese</th>\n",
       "      <th>welsh</th>\n",
       "      <th>yiddish</th>\n",
       "      <th>english</th>\n",
       "      <th>latvian</th>\n",
       "      <th>ukrainian</th>\n",
       "    </tr>\n",
       "  </thead>\n",
       "  <tbody>\n",
       "    <tr>\n",
       "      <th>0</th>\n",
       "      <td>82336</td>\n",
       "      <td>Canngegasick</td>\n",
       "      <td>Norwood, Charlevoix, Michigan</td>\n",
       "      <td>1859</td>\n",
       "      <td>0</td>\n",
       "      <td>0</td>\n",
       "      <td>0</td>\n",
       "      <td>0</td>\n",
       "      <td>0</td>\n",
       "      <td>0</td>\n",
       "      <td>...</td>\n",
       "      <td>0</td>\n",
       "      <td>0</td>\n",
       "      <td>0</td>\n",
       "      <td>0</td>\n",
       "      <td>0</td>\n",
       "      <td>0</td>\n",
       "      <td>0</td>\n",
       "      <td>0</td>\n",
       "      <td>0</td>\n",
       "      <td>0</td>\n",
       "    </tr>\n",
       "    <tr>\n",
       "      <th>1</th>\n",
       "      <td>84111</td>\n",
       "      <td>Casbellos</td>\n",
       "      <td>San Juan Pueblo, Rio Arriba, New Mexico</td>\n",
       "      <td>1848</td>\n",
       "      <td>0</td>\n",
       "      <td>0</td>\n",
       "      <td>0</td>\n",
       "      <td>0</td>\n",
       "      <td>0</td>\n",
       "      <td>0</td>\n",
       "      <td>...</td>\n",
       "      <td>0</td>\n",
       "      <td>0</td>\n",
       "      <td>0</td>\n",
       "      <td>0</td>\n",
       "      <td>0</td>\n",
       "      <td>0</td>\n",
       "      <td>0</td>\n",
       "      <td>0</td>\n",
       "      <td>0</td>\n",
       "      <td>0</td>\n",
       "    </tr>\n",
       "    <tr>\n",
       "      <th>2</th>\n",
       "      <td>176251</td>\n",
       "      <td>Maymahakawahcuming</td>\n",
       "      <td>White Earth Indian Reservation, Becker, Minnesota</td>\n",
       "      <td>1888</td>\n",
       "      <td>0</td>\n",
       "      <td>0</td>\n",
       "      <td>0</td>\n",
       "      <td>0</td>\n",
       "      <td>0</td>\n",
       "      <td>0</td>\n",
       "      <td>...</td>\n",
       "      <td>0</td>\n",
       "      <td>0</td>\n",
       "      <td>0</td>\n",
       "      <td>0</td>\n",
       "      <td>0</td>\n",
       "      <td>0</td>\n",
       "      <td>0</td>\n",
       "      <td>0</td>\n",
       "      <td>0</td>\n",
       "      <td>0</td>\n",
       "    </tr>\n",
       "    <tr>\n",
       "      <th>3</th>\n",
       "      <td>209123</td>\n",
       "      <td>Rocks</td>\n",
       "      <td>Smith River, Del Norte, California</td>\n",
       "      <td>1893</td>\n",
       "      <td>0</td>\n",
       "      <td>0</td>\n",
       "      <td>0</td>\n",
       "      <td>0</td>\n",
       "      <td>0</td>\n",
       "      <td>0</td>\n",
       "      <td>...</td>\n",
       "      <td>0</td>\n",
       "      <td>0</td>\n",
       "      <td>0</td>\n",
       "      <td>0</td>\n",
       "      <td>0</td>\n",
       "      <td>0</td>\n",
       "      <td>0</td>\n",
       "      <td>0</td>\n",
       "      <td>0</td>\n",
       "      <td>0</td>\n",
       "    </tr>\n",
       "    <tr>\n",
       "      <th>4</th>\n",
       "      <td>228206</td>\n",
       "      <td>Stands On Top</td>\n",
       "      <td>Crow Creek Indian Reservation, Buffalo, South ...</td>\n",
       "      <td>1864</td>\n",
       "      <td>0</td>\n",
       "      <td>0</td>\n",
       "      <td>0</td>\n",
       "      <td>0</td>\n",
       "      <td>0</td>\n",
       "      <td>0</td>\n",
       "      <td>...</td>\n",
       "      <td>0</td>\n",
       "      <td>0</td>\n",
       "      <td>0</td>\n",
       "      <td>0</td>\n",
       "      <td>0</td>\n",
       "      <td>0</td>\n",
       "      <td>0</td>\n",
       "      <td>0</td>\n",
       "      <td>0</td>\n",
       "      <td>0</td>\n",
       "    </tr>\n",
       "  </tbody>\n",
       "</table>\n",
       "<p>5 rows × 46 columns</p>\n",
       "</div>"
      ],
      "text/plain": [
       "       ID                 name  \\\n",
       "0   82336         Canngegasick   \n",
       "1   84111            Casbellos   \n",
       "2  176251   Maymahakawahcuming   \n",
       "3  209123                Rocks   \n",
       "4  228206        Stands On Top   \n",
       "\n",
       "                                                city   dob  african  albanian  \\\n",
       "0                      Norwood, Charlevoix, Michigan  1859        0         0   \n",
       "1            San Juan Pueblo, Rio Arriba, New Mexico  1848        0         0   \n",
       "2  White Earth Indian Reservation, Becker, Minnesota  1888        0         0   \n",
       "3                 Smith River, Del Norte, California  1893        0         0   \n",
       "4  Crow Creek Indian Reservation, Buffalo, South ...  1864        0         0   \n",
       "\n",
       "   arabic  bulgarian  catalan  chinese  ...  swahili  swedish  turkish  urdu  \\\n",
       "0       0          0        0        0  ...        0        0        0     0   \n",
       "1       0          0        0        0  ...        0        0        0     0   \n",
       "2       0          0        0        0  ...        0        0        0     0   \n",
       "3       0          0        0        0  ...        0        0        0     0   \n",
       "4       0          0        0        0  ...        0        0        0     0   \n",
       "\n",
       "   vietnamese  welsh  yiddish  english  latvian  ukrainian  \n",
       "0           0      0        0        0        0          0  \n",
       "1           0      0        0        0        0          0  \n",
       "2           0      0        0        0        0          0  \n",
       "3           0      0        0        0        0          0  \n",
       "4           0      0        0        0        0          0  \n",
       "\n",
       "[5 rows x 46 columns]"
      ]
     },
     "execution_count": 18,
     "metadata": {},
     "output_type": "execute_result"
    }
   ],
   "source": [
    "df2.head()"
   ]
  },
  {
   "cell_type": "markdown",
   "metadata": {},
   "source": [
    "Compare names with African names"
   ]
  },
  {
   "cell_type": "code",
   "execution_count": null,
   "metadata": {},
   "outputs": [],
   "source": [
    "for i in range(len(id)):\n",
    "    for j in range(len(african)):\n",
    "        x = who.ratio(id[i], african[african.index[j]])\n",
    "        if x > df2['african'][i]:\n",
    "            df2['african'][i] = x"
   ]
  },
  {
   "cell_type": "markdown",
   "metadata": {},
   "source": [
    "Compare with Albanian names"
   ]
  },
  {
   "cell_type": "code",
   "execution_count": null,
   "metadata": {},
   "outputs": [],
   "source": [
    "for i in range(len(id)):\n",
    "    for j in range(len(albanian)):\n",
    "        x = who.ratio(id[i], albanian[albanian.index[j]])\n",
    "        if x > df2['albanian'][i]:\n",
    "            df2['albanian'][i] = x"
   ]
  },
  {
   "cell_type": "markdown",
   "metadata": {},
   "source": [
    "Compare with Arabic names"
   ]
  },
  {
   "cell_type": "code",
   "execution_count": null,
   "metadata": {},
   "outputs": [],
   "source": [
    "for i in range(len(id)):\n",
    "    for j in range(len(arabic)):\n",
    "        x = who.ratio(id[i], arabic[arabic.index[j]])\n",
    "        if x > df2['arabic'][i]:\n",
    "            df2['arabic'][i] = x"
   ]
  },
  {
   "cell_type": "markdown",
   "metadata": {},
   "source": [
    "Compare with Bulgarian names"
   ]
  },
  {
   "cell_type": "code",
   "execution_count": null,
   "metadata": {},
   "outputs": [],
   "source": [
    "for i in range(len(id)):\n",
    "    for j in range(len(bulgarian)):\n",
    "        x = who.ratio(id[i], bulgarian[bulgarian.index[j]])\n",
    "        if x > df2['bulgarian'][i]:\n",
    "            df2['bulgarian'][i] = x"
   ]
  },
  {
   "cell_type": "markdown",
   "metadata": {},
   "source": [
    "Compare with Catalan names"
   ]
  },
  {
   "cell_type": "code",
   "execution_count": null,
   "metadata": {},
   "outputs": [],
   "source": [
    "for i in range(len(id)):\n",
    "    for j in range(len(catalan)):\n",
    "        x = who.ratio(id[i], catalan[catalan.index[j]])\n",
    "        if x > df2['catalan'][i]:\n",
    "            df2['catalan'][i] = x"
   ]
  },
  {
   "cell_type": "markdown",
   "metadata": {},
   "source": [
    "Compare with the Chinese name"
   ]
  },
  {
   "cell_type": "code",
   "execution_count": null,
   "metadata": {},
   "outputs": [],
   "source": [
    "for i in range(len(id)):\n",
    "    for j in range(len(chinese)):\n",
    "        x = who.ratio(id[i], chinese[chinese.index[j]])\n",
    "        if x > df2['chinese'][i]:\n",
    "            df2['chinese'][i] = x"
   ]
  },
  {
   "cell_type": "markdown",
   "metadata": {},
   "source": [
    "Compare with Croatian names"
   ]
  },
  {
   "cell_type": "code",
   "execution_count": null,
   "metadata": {},
   "outputs": [],
   "source": [
    "for i in range(len(id)):\n",
    "    for j in range(len(croatian)):\n",
    "        x = who.ratio(id[i], croatian[croatian.index[j]])\n",
    "        if x > df2['croatian'][i]:\n",
    "            df2['croatian'][i] = x"
   ]
  },
  {
   "cell_type": "markdown",
   "metadata": {},
   "source": [
    "Compare with Czech names"
   ]
  },
  {
   "cell_type": "code",
   "execution_count": null,
   "metadata": {},
   "outputs": [],
   "source": [
    "for i in range(len(id)):\n",
    "    for j in range(len(czech)):\n",
    "        x = who.ratio(id[i], czech[czech.index[j]])\n",
    "        if x > df2['czech'][i]:\n",
    "            df2['czech'][i] = x"
   ]
  },
  {
   "cell_type": "markdown",
   "metadata": {},
   "source": [
    "Compare with danish names"
   ]
  },
  {
   "cell_type": "code",
   "execution_count": null,
   "metadata": {},
   "outputs": [],
   "source": [
    "for i in range(len(id)):\n",
    "    for j in range(len(danish)):\n",
    "        x = who.ratio(id[i], danish[danish.index[j]])\n",
    "        if x > df2['danish'][i]:\n",
    "            df2['danish'][i] = x"
   ]
  },
  {
   "cell_type": "markdown",
   "metadata": {},
   "source": [
    "Compare with the dutch names"
   ]
  },
  {
   "cell_type": "code",
   "execution_count": null,
   "metadata": {},
   "outputs": [],
   "source": [
    "for i in range(len(id)):\n",
    "    for j in range(len(dutch)):\n",
    "        x = who.ratio(id[i], dutch[dutch.index[j]])\n",
    "        if x > df2['dutch'][i]:\n",
    "            df2['dutch'][i] = x"
   ]
  },
  {
   "cell_type": "markdown",
   "metadata": {},
   "source": [
    "Compare with Armenian names"
   ]
  },
  {
   "cell_type": "code",
   "execution_count": null,
   "metadata": {},
   "outputs": [],
   "source": [
    "for i in range(len(id)):\n",
    "    for j in range(len(armenian)):\n",
    "        x = who.ratio(id[i], armenian[armenian.index[j]])\n",
    "        if x > df2['armenian'][i]:\n",
    "            df2['armenian'][i] = x"
   ]
  },
  {
   "cell_type": "markdown",
   "metadata": {},
   "source": [
    "Compare with Estonian names"
   ]
  },
  {
   "cell_type": "code",
   "execution_count": null,
   "metadata": {},
   "outputs": [],
   "source": [
    "for i in range(len(id)):\n",
    "    for j in range(len(estonian)):\n",
    "        x = who.ratio(id[i], estonian[estonian.index[j]])\n",
    "        if x > df2['estonian'][i]:\n",
    "            df2['estonian'][i] = x"
   ]
  },
  {
   "cell_type": "markdown",
   "metadata": {},
   "source": [
    "Compare with Finnish names"
   ]
  },
  {
   "cell_type": "code",
   "execution_count": null,
   "metadata": {},
   "outputs": [],
   "source": [
    "for i in range(len(id)):\n",
    "    for j in range(len(finnish)):\n",
    "        x = who.ratio(id[i], finnish[finnish.index[j]])\n",
    "        if x > df2['finnish'][i]:\n",
    "            df2['finnish'][i] = x"
   ]
  },
  {
   "cell_type": "markdown",
   "metadata": {},
   "source": [
    "Compare with French names"
   ]
  },
  {
   "cell_type": "code",
   "execution_count": null,
   "metadata": {},
   "outputs": [],
   "source": [
    "for i in range(len(id)):\n",
    "    for j in range(len(french)):\n",
    "        x = who.ratio(id[i], french[french.index[j]])\n",
    "        if x > df2['french'][i]:\n",
    "            df2['french'][i] = x"
   ]
  },
  {
   "cell_type": "markdown",
   "metadata": {},
   "source": [
    "Compare with Gaelic names"
   ]
  },
  {
   "cell_type": "code",
   "execution_count": null,
   "metadata": {},
   "outputs": [],
   "source": [
    "for i in range(len(id)):\n",
    "    for j in range(len(gaelic)):\n",
    "        x = who.ratio(id[i], gaelic[gaelic.index[j]])\n",
    "        if x > df2['gaelic'][i]:\n",
    "            df2['gaelic'][i] = x"
   ]
  },
  {
   "cell_type": "markdown",
   "metadata": {},
   "source": [
    "Compare with German names"
   ]
  },
  {
   "cell_type": "code",
   "execution_count": null,
   "metadata": {},
   "outputs": [],
   "source": [
    "for i in range(len(id)):\n",
    "    for j in range(len(german)):\n",
    "        x = who.ratio(id[i], german[german.index[j]])\n",
    "        if x > df2['german'][i]:\n",
    "            df2['german'][i] = x"
   ]
  },
  {
   "cell_type": "markdown",
   "metadata": {},
   "source": [
    "Compare with Greek names"
   ]
  },
  {
   "cell_type": "code",
   "execution_count": null,
   "metadata": {},
   "outputs": [],
   "source": [
    "for i in range(len(id)):\n",
    "    for j in range(len(greek)):\n",
    "        x = who.ratio(id[i], greek[greek.index[j]])\n",
    "        if x > df2['greek'][i]:\n",
    "            df2['greek'][i] = x"
   ]
  },
  {
   "cell_type": "markdown",
   "metadata": {},
   "source": [
    "Compare with Hawaiian names"
   ]
  },
  {
   "cell_type": "code",
   "execution_count": null,
   "metadata": {},
   "outputs": [],
   "source": [
    "for i in range(len(id)):\n",
    "    for j in range(len(hawaiian)):\n",
    "        x = who.ratio(id[i], hawaiian[hawaiian.index[j]])\n",
    "        if x > df2['hawaiian'][i]:\n",
    "            df2['hawaiian'][i] = x"
   ]
  },
  {
   "cell_type": "markdown",
   "metadata": {},
   "source": [
    "Compare with Hebrew names"
   ]
  },
  {
   "cell_type": "code",
   "execution_count": null,
   "metadata": {},
   "outputs": [],
   "source": [
    "for i in range(len(id)):\n",
    "    for j in range(len(hebrew)):\n",
    "        x = who.ratio(id[i], hebrew[hebrew.index[j]])\n",
    "        if x > df2['hebrew'][i]:\n",
    "            df2['hebrew'][i] = x"
   ]
  },
  {
   "cell_type": "markdown",
   "metadata": {},
   "source": [
    "Compare with Hindi names"
   ]
  },
  {
   "cell_type": "code",
   "execution_count": null,
   "metadata": {},
   "outputs": [],
   "source": [
    "for i in range(len(id)):\n",
    "    for j in range(len(hindi)):\n",
    "        x = who.ratio(id[i], hindi[hindi.index[j]])\n",
    "        if x > df2['hindi'][i]:\n",
    "            df2['hindi'][i] = x"
   ]
  },
  {
   "cell_type": "markdown",
   "metadata": {},
   "source": [
    "Compare with Hungarian names"
   ]
  },
  {
   "cell_type": "code",
   "execution_count": null,
   "metadata": {},
   "outputs": [],
   "source": [
    "for i in range(len(id)):\n",
    "    for j in range(len(hungarian)):\n",
    "        x = who.ratio(id[i], hungarian[hungarian.index[j]])\n",
    "        if x > df2['hungarian'][i]:\n",
    "            df2['hungarian'][i] = x"
   ]
  },
  {
   "cell_type": "markdown",
   "metadata": {},
   "source": [
    "Compare with Indonesian names"
   ]
  },
  {
   "cell_type": "code",
   "execution_count": null,
   "metadata": {},
   "outputs": [],
   "source": [
    "for i in range(len(id)):\n",
    "    for j in range(len(indonesian)):\n",
    "        x = who.ratio(id[i], indonesian[indonesian.index[j]])\n",
    "        if x > df2['indonesian'][i]:\n",
    "            df2['indonesian'][i] = x"
   ]
  },
  {
   "cell_type": "markdown",
   "metadata": {},
   "source": [
    "Compare with Italian names"
   ]
  },
  {
   "cell_type": "code",
   "execution_count": null,
   "metadata": {},
   "outputs": [],
   "source": [
    "for i in range(len(id)):\n",
    "    for j in range(len(italian)):\n",
    "        x = who.ratio(id[i], italian[italian.index[j]])\n",
    "        if x > df2['italian'][i]:\n",
    "            df2['italian'][i] = x"
   ]
  },
  {
   "cell_type": "markdown",
   "metadata": {},
   "source": [
    "Compare with Japanese names"
   ]
  },
  {
   "cell_type": "code",
   "execution_count": null,
   "metadata": {},
   "outputs": [],
   "source": [
    "for i in range(len(id)):\n",
    "    for j in range(len(japanese)):\n",
    "        x = who.ratio(id[i], japanese[japanese.index[j]])\n",
    "        if x > df2['japanese'][i]:\n",
    "            df2['japanese'][i] = x"
   ]
  },
  {
   "cell_type": "markdown",
   "metadata": {},
   "source": [
    "Compare with Norwegian names"
   ]
  },
  {
   "cell_type": "code",
   "execution_count": null,
   "metadata": {},
   "outputs": [],
   "source": [
    "for i in range(len(id)):\n",
    "    for j in range(len(norwegian)):\n",
    "        x = who.ratio(id[i], norwegian[norwegian.index[j]])\n",
    "        if x > df2['norwegian'][i]:\n",
    "            df2['norwegian'][i] = x"
   ]
  },
  {
   "cell_type": "markdown",
   "metadata": {},
   "source": [
    "Compare with Persian names"
   ]
  },
  {
   "cell_type": "code",
   "execution_count": null,
   "metadata": {},
   "outputs": [],
   "source": [
    "for i in range(len(id)):\n",
    "    for j in range(len(persian)):\n",
    "        x = who.ratio(id[i], persian[persian.index[j]])\n",
    "        if x > df2['persian'][i]:\n",
    "            df2['persian'][i] = x"
   ]
  },
  {
   "cell_type": "markdown",
   "metadata": {},
   "source": [
    "Compare with Polish names"
   ]
  },
  {
   "cell_type": "code",
   "execution_count": null,
   "metadata": {},
   "outputs": [],
   "source": [
    "for i in range(len(id)):\n",
    "    for j in range(len(polish)):\n",
    "        x = who.ratio(id[i], polish[polish.index[j]])\n",
    "        if x > df2['polish'][i]:\n",
    "            df2['polish'][i] = x"
   ]
  },
  {
   "cell_type": "markdown",
   "metadata": {},
   "source": [
    "Compare with Portuguese names"
   ]
  },
  {
   "cell_type": "code",
   "execution_count": null,
   "metadata": {},
   "outputs": [],
   "source": [
    "for i in range(len(id)):\n",
    "    for j in range(len(portuguese)):\n",
    "        x = who.ratio(id[i], portuguese[portuguese.index[j]])\n",
    "        if x > df2['portuguese'][i]:\n",
    "            df2['portuguese'][i] = x"
   ]
  },
  {
   "cell_type": "markdown",
   "metadata": {},
   "source": [
    "Compare with Romanian names"
   ]
  },
  {
   "cell_type": "code",
   "execution_count": null,
   "metadata": {},
   "outputs": [],
   "source": [
    "for i in range(len(id)):\n",
    "    for j in range(len(romanian)):\n",
    "        x = who.ratio(id[i], romanian[romanian.index[j]])\n",
    "        if x > df2['romanian'][i]:\n",
    "            df2['romanian'][i] = x"
   ]
  },
  {
   "cell_type": "markdown",
   "metadata": {},
   "source": [
    "Compare with russian names"
   ]
  },
  {
   "cell_type": "code",
   "execution_count": null,
   "metadata": {},
   "outputs": [],
   "source": [
    "for i in range(len(id)):\n",
    "    for j in range(len(russian)):\n",
    "        x = who.ratio(id[i], russian[russian.index[j]])\n",
    "        if x > df2['russian'][i]:\n",
    "            df2['russian'][i] = x"
   ]
  },
  {
   "cell_type": "markdown",
   "metadata": {},
   "source": [
    "Compare with Slovak names"
   ]
  },
  {
   "cell_type": "code",
   "execution_count": null,
   "metadata": {},
   "outputs": [],
   "source": [
    "for i in range(len(id)):\n",
    "    for j in range(len(slovak)):\n",
    "        x = who.ratio(id[i], slovak[slovak.index[j]])\n",
    "        if x > df2['slovak'][i]:\n",
    "            df2['slovak'][i] = x"
   ]
  },
  {
   "cell_type": "markdown",
   "metadata": {},
   "source": [
    "Compare with Spanish names"
   ]
  },
  {
   "cell_type": "code",
   "execution_count": null,
   "metadata": {},
   "outputs": [],
   "source": [
    "for i in range(len(id)):\n",
    "    for j in range(len(spanish)):\n",
    "        x = who.ratio(id[i], spanish[spanish.index[j]])\n",
    "        if x > df2['spanish'][i]:\n",
    "            df2['spanish'][i] = x"
   ]
  },
  {
   "cell_type": "markdown",
   "metadata": {},
   "source": [
    "Compare with Swahili names"
   ]
  },
  {
   "cell_type": "code",
   "execution_count": null,
   "metadata": {},
   "outputs": [],
   "source": [
    "for i in range(len(id)):\n",
    "    for j in range(len(swahili)):\n",
    "        x = who.ratio(id[i], swahili[swahili.index[j]])\n",
    "        if x > df2['swahili'][i]:\n",
    "            df2['swahili'][i] = x"
   ]
  },
  {
   "cell_type": "markdown",
   "metadata": {},
   "source": [
    "Compare with Swedish names"
   ]
  },
  {
   "cell_type": "code",
   "execution_count": null,
   "metadata": {},
   "outputs": [],
   "source": [
    "for i in range(len(id)):\n",
    "    for j in range(len(swedish)):\n",
    "        x = who.ratio(id[i], swedish[swedish.index[j]])\n",
    "        if x > df2['swedish'][i]:\n",
    "            df2['swedish'][i] = x"
   ]
  },
  {
   "cell_type": "markdown",
   "metadata": {},
   "source": [
    "Compare with Turkish names"
   ]
  },
  {
   "cell_type": "code",
   "execution_count": null,
   "metadata": {},
   "outputs": [],
   "source": [
    "for i in range(len(id)):\n",
    "    for j in range(len(turkish)):\n",
    "        x = who.ratio(id[i], turkish[turkish.index[j]])\n",
    "        if x > df2['turkish'][i]:\n",
    "            df2['turkish'][i] = x"
   ]
  },
  {
   "cell_type": "markdown",
   "metadata": {},
   "source": [
    "Compare with Urdu names"
   ]
  },
  {
   "cell_type": "code",
   "execution_count": null,
   "metadata": {},
   "outputs": [],
   "source": [
    "for i in range(len(id)):\n",
    "    for j in range(len(urdu)):\n",
    "        x = who.ratio(id[i], urdu[urdu.index[j]])\n",
    "        if x > df2['urdu'][i]:\n",
    "            df2['urdu'][i] = x"
   ]
  },
  {
   "cell_type": "markdown",
   "metadata": {},
   "source": [
    "Compare with Vietnamese names"
   ]
  },
  {
   "cell_type": "code",
   "execution_count": null,
   "metadata": {},
   "outputs": [],
   "source": [
    "for i in range(len(id)):\n",
    "    for j in range(len(vietnamese)):\n",
    "        x = who.ratio(id[i], vietnamese[vietnamese.index[j]])\n",
    "        if x > df2['vietnamese'][i]:\n",
    "            df2['vietnamese'][i] = x"
   ]
  },
  {
   "cell_type": "markdown",
   "metadata": {},
   "source": [
    "Compare with Welsh names"
   ]
  },
  {
   "cell_type": "code",
   "execution_count": null,
   "metadata": {},
   "outputs": [],
   "source": [
    "for i in range(len(id)):\n",
    "    for j in range(len(welsh)):\n",
    "        x = who.ratio(id[i], welsh[welsh.index[j]])\n",
    "        if x > df2['welsh'][i]:\n",
    "            df2['welsh'][i] = x"
   ]
  },
  {
   "cell_type": "markdown",
   "metadata": {},
   "source": [
    "Compare with Yiddish names"
   ]
  },
  {
   "cell_type": "code",
   "execution_count": null,
   "metadata": {},
   "outputs": [],
   "source": [
    "for i in range(len(id)):\n",
    "    for j in range(len(yiddish)):\n",
    "        x = who.ratio(id[i], yiddish[yiddish.index[j]])\n",
    "        if x > df2['yiddish'][i]:\n",
    "            df2['yiddish'][i] = x"
   ]
  },
  {
   "cell_type": "markdown",
   "metadata": {},
   "source": [
    "Compare with English names"
   ]
  },
  {
   "cell_type": "code",
   "execution_count": null,
   "metadata": {},
   "outputs": [],
   "source": [
    "for i in range(len(id)):\n",
    "    for j in range(len(english)):\n",
    "        x = who.ratio(id[i], english[english.index[j]])\n",
    "        if x > df2['english'][i]:\n",
    "            df2['english'][i] = x"
   ]
  },
  {
   "cell_type": "markdown",
   "metadata": {},
   "source": [
    "Compare with Latvian names"
   ]
  },
  {
   "cell_type": "code",
   "execution_count": null,
   "metadata": {},
   "outputs": [],
   "source": [
    "for i in range(len(id)):\n",
    "    for j in range(len(latvian)):\n",
    "        x = who.ratio(id[i], latvian[latvian.index[j]])\n",
    "        if x > df2['latvian'][i]:\n",
    "            df2['latvian'][i] = x"
   ]
  },
  {
   "cell_type": "markdown",
   "metadata": {},
   "source": [
    "Compare with Ukrainian names"
   ]
  },
  {
   "cell_type": "code",
   "execution_count": null,
   "metadata": {},
   "outputs": [],
   "source": [
    "for i in range(len(id)):\n",
    "    for j in range(len(ukrainian)):\n",
    "        x = who.ratio(id[i], ukrainian[ukrainian.index[j]])\n",
    "        if x > df2['ukrainian'][i]:\n",
    "            df2['ukrainian'][i] = x"
   ]
  },
  {
   "cell_type": "markdown",
   "metadata": {},
   "source": [
    "Check the final result"
   ]
  },
  {
   "cell_type": "code",
   "execution_count": 19,
   "metadata": {},
   "outputs": [
    {
     "data": {
      "text/html": [
       "<div>\n",
       "<style scoped>\n",
       "    .dataframe tbody tr th:only-of-type {\n",
       "        vertical-align: middle;\n",
       "    }\n",
       "\n",
       "    .dataframe tbody tr th {\n",
       "        vertical-align: top;\n",
       "    }\n",
       "\n",
       "    .dataframe thead th {\n",
       "        text-align: right;\n",
       "    }\n",
       "</style>\n",
       "<table border=\"1\" class=\"dataframe\">\n",
       "  <thead>\n",
       "    <tr style=\"text-align: right;\">\n",
       "      <th></th>\n",
       "      <th>ID</th>\n",
       "      <th>name</th>\n",
       "      <th>city</th>\n",
       "      <th>dob</th>\n",
       "      <th>african</th>\n",
       "      <th>albanian</th>\n",
       "      <th>arabic</th>\n",
       "      <th>bulgarian</th>\n",
       "      <th>catalan</th>\n",
       "      <th>chinese</th>\n",
       "      <th>...</th>\n",
       "      <th>swahili</th>\n",
       "      <th>swedish</th>\n",
       "      <th>turkish</th>\n",
       "      <th>urdu</th>\n",
       "      <th>vietnamese</th>\n",
       "      <th>welsh</th>\n",
       "      <th>yiddish</th>\n",
       "      <th>english</th>\n",
       "      <th>latvian</th>\n",
       "      <th>ukrainian</th>\n",
       "    </tr>\n",
       "  </thead>\n",
       "  <tbody>\n",
       "    <tr>\n",
       "      <th>0</th>\n",
       "      <td>82336</td>\n",
       "      <td>Canngegasick</td>\n",
       "      <td>Norwood, Charlevoix, Michigan</td>\n",
       "      <td>1859</td>\n",
       "      <td>0</td>\n",
       "      <td>0</td>\n",
       "      <td>0</td>\n",
       "      <td>0</td>\n",
       "      <td>0</td>\n",
       "      <td>0</td>\n",
       "      <td>...</td>\n",
       "      <td>0</td>\n",
       "      <td>0</td>\n",
       "      <td>0</td>\n",
       "      <td>0</td>\n",
       "      <td>0</td>\n",
       "      <td>0</td>\n",
       "      <td>0</td>\n",
       "      <td>0</td>\n",
       "      <td>0</td>\n",
       "      <td>0</td>\n",
       "    </tr>\n",
       "    <tr>\n",
       "      <th>1</th>\n",
       "      <td>84111</td>\n",
       "      <td>Casbellos</td>\n",
       "      <td>San Juan Pueblo, Rio Arriba, New Mexico</td>\n",
       "      <td>1848</td>\n",
       "      <td>0</td>\n",
       "      <td>0</td>\n",
       "      <td>0</td>\n",
       "      <td>0</td>\n",
       "      <td>0</td>\n",
       "      <td>0</td>\n",
       "      <td>...</td>\n",
       "      <td>0</td>\n",
       "      <td>0</td>\n",
       "      <td>0</td>\n",
       "      <td>0</td>\n",
       "      <td>0</td>\n",
       "      <td>0</td>\n",
       "      <td>0</td>\n",
       "      <td>0</td>\n",
       "      <td>0</td>\n",
       "      <td>0</td>\n",
       "    </tr>\n",
       "    <tr>\n",
       "      <th>2</th>\n",
       "      <td>176251</td>\n",
       "      <td>Maymahakawahcuming</td>\n",
       "      <td>White Earth Indian Reservation, Becker, Minnesota</td>\n",
       "      <td>1888</td>\n",
       "      <td>0</td>\n",
       "      <td>0</td>\n",
       "      <td>0</td>\n",
       "      <td>0</td>\n",
       "      <td>0</td>\n",
       "      <td>0</td>\n",
       "      <td>...</td>\n",
       "      <td>0</td>\n",
       "      <td>0</td>\n",
       "      <td>0</td>\n",
       "      <td>0</td>\n",
       "      <td>0</td>\n",
       "      <td>0</td>\n",
       "      <td>0</td>\n",
       "      <td>0</td>\n",
       "      <td>0</td>\n",
       "      <td>0</td>\n",
       "    </tr>\n",
       "    <tr>\n",
       "      <th>3</th>\n",
       "      <td>209123</td>\n",
       "      <td>Rocks</td>\n",
       "      <td>Smith River, Del Norte, California</td>\n",
       "      <td>1893</td>\n",
       "      <td>0</td>\n",
       "      <td>0</td>\n",
       "      <td>0</td>\n",
       "      <td>0</td>\n",
       "      <td>0</td>\n",
       "      <td>0</td>\n",
       "      <td>...</td>\n",
       "      <td>0</td>\n",
       "      <td>0</td>\n",
       "      <td>0</td>\n",
       "      <td>0</td>\n",
       "      <td>0</td>\n",
       "      <td>0</td>\n",
       "      <td>0</td>\n",
       "      <td>0</td>\n",
       "      <td>0</td>\n",
       "      <td>0</td>\n",
       "    </tr>\n",
       "    <tr>\n",
       "      <th>4</th>\n",
       "      <td>228206</td>\n",
       "      <td>Stands On Top</td>\n",
       "      <td>Crow Creek Indian Reservation, Buffalo, South ...</td>\n",
       "      <td>1864</td>\n",
       "      <td>0</td>\n",
       "      <td>0</td>\n",
       "      <td>0</td>\n",
       "      <td>0</td>\n",
       "      <td>0</td>\n",
       "      <td>0</td>\n",
       "      <td>...</td>\n",
       "      <td>0</td>\n",
       "      <td>0</td>\n",
       "      <td>0</td>\n",
       "      <td>0</td>\n",
       "      <td>0</td>\n",
       "      <td>0</td>\n",
       "      <td>0</td>\n",
       "      <td>0</td>\n",
       "      <td>0</td>\n",
       "      <td>0</td>\n",
       "    </tr>\n",
       "  </tbody>\n",
       "</table>\n",
       "<p>5 rows × 46 columns</p>\n",
       "</div>"
      ],
      "text/plain": [
       "       ID                 name  \\\n",
       "0   82336         Canngegasick   \n",
       "1   84111            Casbellos   \n",
       "2  176251   Maymahakawahcuming   \n",
       "3  209123                Rocks   \n",
       "4  228206        Stands On Top   \n",
       "\n",
       "                                                city   dob  african  albanian  \\\n",
       "0                      Norwood, Charlevoix, Michigan  1859        0         0   \n",
       "1            San Juan Pueblo, Rio Arriba, New Mexico  1848        0         0   \n",
       "2  White Earth Indian Reservation, Becker, Minnesota  1888        0         0   \n",
       "3                 Smith River, Del Norte, California  1893        0         0   \n",
       "4  Crow Creek Indian Reservation, Buffalo, South ...  1864        0         0   \n",
       "\n",
       "   arabic  bulgarian  catalan  chinese  ...  swahili  swedish  turkish  urdu  \\\n",
       "0       0          0        0        0  ...        0        0        0     0   \n",
       "1       0          0        0        0  ...        0        0        0     0   \n",
       "2       0          0        0        0  ...        0        0        0     0   \n",
       "3       0          0        0        0  ...        0        0        0     0   \n",
       "4       0          0        0        0  ...        0        0        0     0   \n",
       "\n",
       "   vietnamese  welsh  yiddish  english  latvian  ukrainian  \n",
       "0           0      0        0        0        0          0  \n",
       "1           0      0        0        0        0          0  \n",
       "2           0      0        0        0        0          0  \n",
       "3           0      0        0        0        0          0  \n",
       "4           0      0        0        0        0          0  \n",
       "\n",
       "[5 rows x 46 columns]"
      ]
     },
     "execution_count": 19,
     "metadata": {},
     "output_type": "execute_result"
    }
   ],
   "source": [
    "df2.head()"
   ]
  },
  {
   "cell_type": "markdown",
   "metadata": {},
   "source": [
    "The number under each colunm name represents the percentage chance to be that kind of luanguage"
   ]
  },
  {
   "cell_type": "code",
   "execution_count": null,
   "metadata": {},
   "outputs": [],
   "source": []
  }
 ],
 "metadata": {
  "kernelspec": {
   "display_name": "Python 3",
   "language": "python",
   "name": "python3"
  },
  "language_info": {
   "codemirror_mode": {
    "name": "ipython",
    "version": 3
   },
   "file_extension": ".py",
   "mimetype": "text/x-python",
   "name": "python",
   "nbconvert_exporter": "python",
   "pygments_lexer": "ipython3",
   "version": "3.7.3"
  }
 },
 "nbformat": 4,
 "nbformat_minor": 2
}
