{
 "cells": [
  {
   "cell_type": "markdown",
   "metadata": {},
   "source": [
    "## Last name categorization in census analysis\n",
    "#### Professor:  Melinda C. Miller\n",
    "#### Name: Haizhou Li\n",
    "#### Data: 2020-09"
   ]
  },
  {
   "cell_type": "markdown",
   "metadata": {},
   "source": [
    "Used pandas and numpy to do the data cleaning, and match the names by using Fuzzy Name Matching Algorithms and imported this pakage whoswho"
   ]
  },
  {
   "cell_type": "markdown",
   "metadata": {},
   "source": [
    "Pakage install (In google colab, change the exclamation point to question mark)"
   ]
  },
  {
   "cell_type": "code",
   "execution_count": null,
   "metadata": {},
   "outputs": [],
   "source": [
    "! pip install whoswho"
   ]
  },
  {
   "cell_type": "code",
   "execution_count": 1,
   "metadata": {},
   "outputs": [],
   "source": [
    "import pandas as pd\n",
    "import numpy as np\n",
    "from whoswho import who\n",
    "import datetime"
   ]
  },
  {
   "cell_type": "markdown",
   "metadata": {},
   "source": [
    "Import data sets"
   ]
  },
  {
   "cell_type": "code",
   "execution_count": 6,
   "metadata": {
    "scrolled": true
   },
   "outputs": [],
   "source": [
    "df = pd.read_csv(\"https://raw.githubusercontent.com/hydro9811/Name-Comparison-/main/Copy%20of%201900%20AI%20Names.csv\")\n",
    "names = pd.read_csv(\"https://raw.githubusercontent.com/hydro9811/Name-Comparison-/main/name.csv\")"
   ]
  },
  {
   "cell_type": "code",
   "execution_count": 11,
   "metadata": {},
   "outputs": [],
   "source": [
    "df2 = df"
   ]
  },
  {
   "cell_type": "markdown",
   "metadata": {},
   "source": [
    "Data Cleaning"
   ]
  },
  {
   "cell_type": "code",
   "execution_count": 7,
   "metadata": {},
   "outputs": [],
   "source": [
    "# id is all the original names from census and title is the known name to compare\n",
    "id = df.name.map(str)\n",
    "title = names.title.map(str)"
   ]
  },
  {
   "cell_type": "code",
   "execution_count": 8,
   "metadata": {},
   "outputs": [],
   "source": [
    "df['dob'] = df['dob'].fillna(0)\n",
    "df['dob'] = df.dob.map(int)"
   ]
  },
  {
   "cell_type": "code",
   "execution_count": 9,
   "metadata": {},
   "outputs": [],
   "source": [
    "id2 = [df.name.iloc[i] for i in range(len(df.name))]\n",
    "title2 = [names.title.iloc[i] for i in range(len(names.title))]"
   ]
  },
  {
   "cell_type": "markdown",
   "metadata": {},
   "source": [
    "Now group by the origin sources by the language countries"
   ]
  },
  {
   "cell_type": "code",
   "execution_count": 10,
   "metadata": {},
   "outputs": [
    {
     "data": {
      "text/plain": [
       "used_in\n",
       "African and English speaking countries                                                                                                                               9\n",
       "African, Arabic and English speaking countries                                                                                                                       5\n",
       "African, Arabic, English and Swahili speaking countries                                                                                                              8\n",
       "African, Arabic, English, Hebrew and Swahili speaking countries                                                                                                      1\n",
       "African, Arabic, English, Hindi, Hungarian and Swahili speaking countries                                                                                            1\n",
       "African, Arabic, English, Swahili and Russian speaking countries                                                                                                     1\n",
       "African, Bulgarian, Croatian, Czech, English, Polish, Serbian, Spanish, Swahili and Russian speaking countries                                                       1\n",
       "African, English and Swahili speaking countries                                                                                                                      6\n",
       "African, English, German and Swahili speaking countries                                                                                                              1\n",
       "African, English, Hebrew and Polish speaking countries                                                                                                               1\n",
       "African, English, Hebrew and Swahili speaking countries                                                                                                              1\n",
       "African, English, Hindi and Swahili speaking countries                                                                                                               3\n",
       "Albanian, English, Greek and Russian speaking countries                                                                                                              1\n",
       "Arabic and English speaking countries                                                                                                                               42\n",
       "Arabic, Czech, English and Slovak speaking countries                                                                                                                 1\n",
       "Arabic, Czech, English, Hebrew, Hindi, Polish and Slovak speaking countries                                                                                          1\n",
       "Arabic, English and Greek speaking countries                                                                                                                         1\n",
       "Arabic, English and Hebrew speaking countries                                                                                                                        2\n",
       "Arabic, English and Hindi speaking countries                                                                                                                         4\n",
       "Arabic, English and Japanese speaking countries                                                                                                                      1\n",
       "Arabic, English and Persian speaking countries                                                                                                                       1\n",
       "Arabic, English and Polish speaking countries                                                                                                                        1\n",
       "Arabic, English and Swahili speaking countries                                                                                                                       1\n",
       "Arabic, English, French, Greek and Armenian speaking countries                                                                                                       1\n",
       "Arabic, English, Hindi and Spanish speaking countries                                                                                                                1\n",
       "Arabic, English, Portuguese, Spanish and Swahili speaking countries                                                                                                  1\n",
       "Bulgarian and English speaking countries                                                                                                                             3\n",
       "Bulgarian, Catalan, Czech, Dutch, English, Estonian, Finnish, German, Greek, Hindi, Hungarian, Italian, Japanese, Polish, Slovak and Armenian speaking countries     1\n",
       "Bulgarian, Croatian, Czech, Dutch, English, Hungarian, Polish, Romanian and Serbian speaking countries                                                               1\n",
       "Bulgarian, Croatian, English, Hindi, Portuguese, Romanian, Serbian and Spanish speaking countries                                                                    1\n",
       "                                                                                                                                                                    ..\n",
       "English, Hungarian, Italian, Polish, Portuguese, Romanian, Spanish and Armenian speaking countries                                                                   1\n",
       "English, Indonesian and Polish speaking countries                                                                                                                    1\n",
       "English, Italian and Polish speaking countries                                                                                                                       4\n",
       "English, Italian and Portuguese speaking countries                                                                                                                   1\n",
       "English, Italian and Spanish speaking countries                                                                                                                     15\n",
       "English, Italian, Polish and Spanish speaking countries                                                                                                              1\n",
       "English, Italian, Polish, Spanish and Russian speaking countries                                                                                                     1\n",
       "English, Italian, Portuguese and Spanish speaking countries                                                                                                         19\n",
       "English, Italian, Portuguese and Swedish speaking countries                                                                                                          1\n",
       "English, Italian, Portuguese, Romanian and Spanish speaking countries                                                                                                1\n",
       "English, Italian, Portuguese, Serbian and Spanish speaking countries                                                                                                 1\n",
       "English, Italian, Spanish and Swedish speaking countries                                                                                                             1\n",
       "English, Japanese and Welsh speaking countries                                                                                                                       1\n",
       "English, Japanese and Yiddish speaking countries                                                                                                                     1\n",
       "English, Japanese, Vietnamese and Welsh speaking countries                                                                                                           1\n",
       "English, Latvian and Lithuanian speaking countries                                                                                                                   1\n",
       "English, Norwegian and Icelandic speaking countries                                                                                                                  1\n",
       "English, Norwegian and Swedish speaking countries                                                                                                                    5\n",
       "English, Norwegian, Polish and Swedish speaking countries                                                                                                            1\n",
       "English, Norwegian, Spanish and Swedish speaking countries                                                                                                           1\n",
       "English, Polish and Slovak speaking countries                                                                                                                        1\n",
       "English, Polish and Spanish speaking countries                                                                                                                       2\n",
       "English, Polish, Spanish and Russian speaking countries                                                                                                              1\n",
       "English, Polish, Swahili and Russian speaking countries                                                                                                              1\n",
       "English, Portuguese and Spanish speaking countries                                                                                                                  17\n",
       "English, Portuguese, Spanish and Welsh speaking countries                                                                                                            1\n",
       "English, Romanian and Spanish speaking countries                                                                                                                     1\n",
       "English, Russian and Armenian speaking countries                                                                                                                     3\n",
       "English, Spanish and Swedish speaking countries                                                                                                                      2\n",
       "English, Ukrainian and Russian speaking countries                                                                                                                    1\n",
       "Length: 221, dtype: int64"
      ]
     },
     "execution_count": 10,
     "metadata": {},
     "output_type": "execute_result"
    }
   ],
   "source": [
    "gy = names.groupby('used_in')\n",
    "gy.size()"
   ]
  },
  {
   "cell_type": "code",
   "execution_count": 14,
   "metadata": {},
   "outputs": [],
   "source": [
    "groups = gy.describe()\n",
    "groups = list(groups.index)"
   ]
  },
  {
   "cell_type": "markdown",
   "metadata": {},
   "source": [
    "Now focus on the languages catagories"
   ]
  },
  {
   "cell_type": "code",
   "execution_count": 16,
   "metadata": {},
   "outputs": [],
   "source": [
    "African_English = gy.get_group('African and English speaking countries').title.map(str)\n",
    "African_Arabic_English = gy.get_group('African, Arabic and English speaking countries').title.map(str)\n",
    "African_Arabic_English_Swahili = gy.get_group(\n",
    "    'African, Arabic, English and Swahili speaking countries').title.map(str)\n",
    "African_Arabic_English_Hebrew_Swahili = gy.get_group(\n",
    "    'African, Arabic, English, Hebrew and Swahili speaking countries').title.map(str)\n",
    "African_Arabic_English_Hindi_Hungarian_Swahili = gy.get_group(\n",
    "    'African, Arabic, English, Hindi, Hungarian and Swahili speaking countries').title.map(str)\n",
    "African_Arabic_English_Swahili_Russian = gy.get_group(\n",
    "    'African, Arabic, English, Swahili and Russian speaking countries').title.map(str)\n",
    "African_Bulgarian_Croatian_Czech_English_Polish_Serbian_Spanish_Swahili_Russian = gy.get_group(\n",
    "    'African, Bulgarian, Croatian, Czech, English, Polish, Serbian, Spanish, Swahili and Russian speaking countries').title.map(str)\n",
    "African_English_Swahili = gy.get_group('African, English and Swahili speaking countries').title.map(str)\n",
    "African_English_German_Swahili = gy.get_group('African, English, German and Swahili speaking countries').title.map(str)\n",
    "African_English_Hebrew_Polish = gy.get_group('African, English, Hebrew and Polish speaking countries').title.map(str)\n",
    "African_English_Hebrew_Swahili = gy.get_group('African, English, Hebrew and Swahili speaking countries').title.map(str)\n",
    "African_English_Hindi_Swahili = gy.get_group('African, English, Hindi and Swahili speaking countries').title.map(str)\n",
    "Albanian_English_Greek_Russian = gy.get_group('Albanian, English, Greek and Russian speaking countries').title\n",
    "Arabic_English = gy.get_group('Arabic and English speaking countries').title\n",
    "Arabic_Czech_English_Slovak = gy.get_group('Arabic, Czech, English and Slovak speaking countries').title\n",
    "Arabic_Czech_English_Hebrew_Hindi_Polish_Slovak = gy.get_group(\n",
    "    'Arabic, Czech, English, Hebrew, Hindi, Polish and Slovak speaking countries').title\n",
    "Arabic_English_Greek = gy.get_group('Arabic, English and Greek speaking countries').title\n",
    "Arabic_English_Hebrew = gy.get_group('Arabic, English and Hebrew speaking countries').title\n",
    "Arabic_English_Hindi = gy.get_group('Arabic, English and Hindi speaking countries').title\n",
    "Arabic_English_Japanese = gy.get_group('Arabic, English and Japanese speaking countries').title\n",
    "Arabic_English_Persian = gy.get_group('Arabic, English and Persian speaking countries').title\n",
    "Arabic_English_Polish = gy.get_group('Arabic, English and Polish speaking countries').title\n",
    "Arabic_English_Swahili = gy.get_group('Arabic, English and Swahili speaking countries').title\n",
    "Arabic_English_French_Greek_Armenian = gy.get_group(\n",
    "    'Arabic, English, French, Greek and Armenian speaking countries').title\n",
    "Arabic_English_Hindi_Spanish = gy.get_group('Arabic, English, Hindi and Spanish speaking countries').title\n",
    "Arabic_English_Portuguese_Spanish_Swahili = gy.get_group(\n",
    "    'Arabic, English, Portuguese, Spanish and Swahili speaking countries').title\n",
    "Bulgarian_English = gy.get_group('Bulgarian and English speaking countries').title\n",
    "Bulgarian_Catalan_Czech_Dutch_English_Estonian_Finnish_German_Greek_Hindi_Hungarian_Italian_Japanese_Polish_Slovak_Armenian = gy.get_group(\n",
    "    'Bulgarian, Catalan, Czech, Dutch, English, Estonian, Finnish, German, Greek, Hindi, Hungarian, Italian, Japanese, Polish, Slovak and Armenian speaking countries').title\n",
    "Bulgarian_Croatian_Czech_Dutch_English_Hungarian_Polish_Romanian_Serbian = gy.get_group(\n",
    "    'Bulgarian, Croatian, Czech, Dutch, English, Hungarian, Polish, Romanian and Serbian speaking countries').title\n",
    "Bulgarian_Croatian_English_Hindi_Portuguese_Romanian_Serbian_Spanish = gy.get_group(\n",
    "    'Bulgarian, Croatian, English, Hindi, Portuguese, Romanian, Serbian and Spanish speaking countries').title\n",
    "Bulgarian_Croatian_English_Hungarian_Polish_Portuguese_Serbian_Russian_Armenian = gy.get_group(groups[30]).title\n",
    "Bulgarian_Czech_Dutch_English_German_Polish_Romanian_Spanish = gy.get_group(groups[31]).title\n",
    "Bulgarian_Czech_Dutch_English_German_Romanian_Russian = gy.get_group(groups[32]).title\n",
    "Bulgarian_Czech_English_Russian = gy.get_group(groups[33]).title\n",
    "Bulgarian_Czech_English_Polish_Serbian_Slovak_Russian = gy.get_group(groups[34]).title\n",
    "Bulgarian_English_Hebrew = gy.get_group(groups[35]).title\n",
    "Bulgarian_English_Russian = gy.get_group(groups[36]).title\n",
    "Bulgarian_English_Spanish = gy.get_group(groups[37]).title\n",
    "Bulgarian_English_German_Greek_Italian_Polish_Portuguese_Serbian_Spanish_Russian = gy.get_group(groups[38]).title\n",
    "Bulgarian_English_Greek_Lithuanian_Spanish_Russian = gy.get_group(groups[39]).title\n",
    "Catalan_English = gy.get_group(groups[40]).title\n",
    "Catalan_Dutch_English_German = gy.get_group(groups[41]).title\n",
    "Catalan_Dutch_English_Estonian_German_Greek_Hungarian_Italian_Norwegian_Polish_Portuguese_Slovak_Spanish_Swedish_Armenian = gy.get_group(groups[42]).title\n",
    "Catalan_English_French_Hungarian_Norwegian_Polish_Spanish_Swedish_Armenian = gy.get_group(groups[43]).title\n",
    "Catalan_English_French_Spanish_Swedish = gy.get_group(groups[44]).title\n",
    "Chinese_English = gy.get_group(groups[45]).title\n",
    "Croatian_English_Serbian = gy.get_group(groups[46]).title\n",
    "Croatian_English_German_Hungarian_Lithuanian_Serbian_Swedish = gy.get_group(groups[47]).title\n",
    "Czech_English = gy.get_group(groups[48]).title\n",
    "Czech_Danish_Dutch_English_French_German_Hungarian_Norwegian_Swedish = gy.get_group(groups[49]).title\n",
    "Czech_Danish_English_German = gy.get_group(groups[50]).title\n",
    "Czech_Danish_English_German_Hungarian_Norwegian_Slovak_Swedish = gy.get_group(groups[51]).title\n",
    "Czech_Dutch_English_French_German = gy.get_group(groups[52]).title\n",
    "Czech_Dutch_English_French_German_Hebrew_Polish_Portuguese_Romanian_Spanish_Armenian = gy.get_group(groups[53]).title\n",
    "Czech_Dutch_English_German_Polish = gy.get_group(groups[54]).title\n",
    "Czech_Dutch_English_German_Greek_Hungarian_Portuguese_Romanian_Slovak_Russian = gy.get_group(groups[55]).title\n",
    "Czech_English_French_German = gy.get_group(groups[56]).title\n",
    "Czech_English_German_Hungarian_Polish = gy.get_group(groups[57]).title\n",
    "Czech_English_German_Hungarian_Polish_Romanian_Slovak = gy.get_group(groups[58]).title\n",
    "Czech_English_German_Italian_Romanian_Spanish = gy.get_group(groups[59]).title\n",
    "Czech_English_German_Latvian_Lithuanian_Norwegian_Polish = gy.get_group(groups[60]).title\n",
    "Czech_English_Greek_Russian = gy.get_group(groups[61]).title\n",
    "Czech_English_Hungarian_Japanese_Slovak = gy.get_group(groups[62]).title\n",
    "Czech_English_Polish_Russian = gy.get_group(groups[63]).title\n",
    "Czech_English_Polish_Romanian_Spanish = gy.get_group(groups[64]).title\n",
    "Danish_English = gy.get_group(groups[65]).title\n",
    "Danish_Dutch_English_French_Swedish = gy.get_group(groups[66]).title\n",
    "Danish_Dutch_English_French_German_Norwegian_Swedish = gy.get_group(groups[67]).title\n",
    "Danish_Dutch_English_German_Norwegian = gy.get_group(groups[68]).title\n",
    "Danish_Dutch_English_Norwegian_Swedish = gy.get_group(groups[69]).title\n",
    "Danish_English_French = gy.get_group(groups[70]).title\n",
    "Danish_English_German = gy.get_group(groups[71]).title\n",
    "Danish_English_Norwegian = gy.get_group(groups[72]).title\n",
    "Danish_English_Swedish = gy.get_group(groups[73]).title\n",
    "Danish_English_French_Norwegian = gy.get_group(groups[74]).title\n",
    "Danish_English_German_Italian_Norwegian_Portuguese_Spanish = gy.get_group(groups[75]).title\n",
    "Danish_English_German_Norwegian_Spanish = gy.get_group(groups[76]).title\n",
    "Danish_English_German_Norwegian_Swedish = gy.get_group(groups[77]).title\n",
    "Danish_English_Hindi_Spanish = gy.get_group(groups[78]).title\n",
    "Danish_English_Italian_Portuguese_Romanian_Spanish_Swedish = gy.get_group(groups[79]).title\n",
    "Dutch_English = gy.get_group(groups[80]).title\n",
    "Dutch_English_French = gy.get_group(groups[81]).title\n",
    "Dutch_English_German = gy.get_group(groups[82]).title\n",
    "Dutch_English_Hebrew = gy.get_group(groups[83]).title\n",
    "Dutch_English_Polish = gy.get_group(groups[84]).title\n",
    "Dutch_English_Swedish = gy.get_group(groups[85]).title\n",
    "Dutch_English_Estonian_German_Spanish_Armenian = gy.get_group(groups[86]).title\n",
    "Dutch_English_Finnish_Swedish = gy.get_group(groups[87]).title\n",
    "Dutch_English_Finnish_German_Japanese_Swedish = gy.get_group(groups[88]).title\n",
    "Dutch_English_Finnish_Hindi_Swedish = gy.get_group(groups[89]).title\n",
    "Dutch_English_French_German = gy.get_group(groups[90]).title\n",
    "Dutch_English_French_Spanish = gy.get_group(groups[91]).title\n",
    "Dutch_English_French_German_Norwegian = gy.get_group(groups[92]).title\n",
    "Dutch_English_French_German_Portuguese = gy.get_group(groups[93]).title\n",
    "Dutch_English_French_German_Swahili = gy.get_group(groups[94]).title\n",
    "Dutch_English_French_Persian_Spanish = gy.get_group(groups[95]).title\n",
    "Dutch_English_German_Hungarian = gy.get_group(groups[96]).title\n",
    "Dutch_English_German_Polish = gy.get_group(groups[97]).title\n",
    "Dutch_English_German_Hindi_Italian_Norwegian_Swedish = gy.get_group(groups[98]).title\n",
    "Dutch_English_German_Hungarian_Slovak = gy.get_group(groups[99]).title\n",
    "Dutch_English_German_Italian_Polish_Spanish = gy.get_group(groups[100]).title\n",
    "Dutch_English_German_Norwegian_Swedish = gy.get_group(groups[101]).title\n",
    "Dutch_English_German_Portuguese_Spanish = gy.get_group(groups[102]).title\n",
    "Dutch_English_Italian_Spanish = gy.get_group(groups[103]).title\n",
    "Dutch_English_Italian_Portuguese_Spanish = gy.get_group(groups[104]).title\n",
    "English_Armenian = gy.get_group(groups[105]).title\n",
    "English_Estonian = gy.get_group(groups[106]).title\n",
    "English_Finnish = gy.get_group(groups[107]).title\n",
    "English_French = gy.get_group(groups[108]).title\n",
    "English_Gaelic = gy.get_group(groups[109]).title\n",
    "English_German = gy.get_group(groups[110]).title\n",
    "English_Greek = gy.get_group(groups[111]).title\n",
    "English_Hawaiian = gy.get_group(groups[112]).title\n",
    "English_Hebrew = gy.get_group(groups[113]).title\n",
    "English_Hindi = gy.get_group(groups[114]).title\n",
    "English_Hungarian = gy.get_group(groups[115]).title\n",
    "English_Indonesian = gy.get_group(groups[116]).title\n",
    "English_Italian = gy.get_group(groups[117]).title\n",
    "English_Japanese = gy.get_group(groups[118]).title\n",
    "English_Norwegian = gy.get_group(groups[119]).title\n",
    "English_Persian = gy.get_group(groups[120]).title\n",
    "English_Polish = gy.get_group(groups[121]).title\n",
    "English_Portuguese = gy.get_group(groups[122]).title\n",
    "English_Romanian = gy.get_group(groups[123]).title\n",
    "English_Russian = gy.get_group(groups[124]).title\n",
    "English_Slovak = gy.get_group(groups[125]).title\n",
    "English_Spanish = gy.get_group(groups[126]).title\n",
    "English_Swahili = gy.get_group(groups[127]).title\n",
    "English_Swedish = gy.get_group(groups[128]).title\n",
    "English_Turkish = gy.get_group(groups[129]).title\n",
    "English_Urdu = gy.get_group(groups[130]).title\n",
    "English_Vietnamese = gy.get_group(groups[131]).title\n",
    "English_Welsh = gy.get_group(groups[132]).title\n",
    "English_Yiddish = gy.get_group(groups[133]).title\n",
    "English = gy.get_group(groups[134]).title\n",
    "English_Estonian_German = gy.get_group(groups[135]).title\n",
    "English_Finnish_German = gy.get_group(groups[136]).title\n",
    "English_Finnish_Hindi = gy.get_group(groups[137]).title\n",
    "English_Finnish_Japanese = gy.get_group(groups[138]).title\n",
    "English_Finnish_Spanish = gy.get_group(groups[139]).title\n",
    "English_Finnish_German_Italian_Portuguese_Spanish = gy.get_group(groups[140]).title\n",
    "English_Finnish_German_Spanish_Swedish = gy.get_group(groups[141]).title\n",
    "English_Finnish_Hindi_Italian_Spanish = gy.get_group(groups[142]).title\n",
    "English_Finnish_Polish_Portuguese_Swedish = gy.get_group(groups[143]).title\n",
    "English_French_Armenian = gy.get_group(groups[144]).title\n",
    "English_French_German = gy.get_group(groups[145]).title\n",
    "English_French_Greek = gy.get_group(groups[146]).title\n",
    "English_French_Italian = gy.get_group(groups[147]).title\n",
    "English_French_Norwegian = gy.get_group(groups[148]).title\n",
    "English_French_Polish = gy.get_group(groups[149]).title\n",
    "English_French_Spanish = gy.get_group(groups[150]).title\n",
    "English_French_Swedish = gy.get_group(groups[151]).title\n",
    "English_French_Welsh = gy.get_group(groups[152]).title\n",
    "English_French_German_Greek = gy.get_group(groups[153]).title\n",
    "English_French_German_Italian = gy.get_group(groups[154]).title\n",
    "English_French_German_Polish = gy.get_group(groups[155]).title\n",
    "English_French_German_Hebrew_Norwegian_Swedish = gy.get_group(groups[156]).title\n",
    "English_French_German_Polish_Russian_Armenian = gy.get_group(groups[157]).title\n",
    "English_French_Greek_Italian_Polish = gy.get_group(groups[158]).title\n",
    "English_French_Greek_Italian_Polish_Portuguese_Spanish = gy.get_group(groups[159]).title\n",
    "English_French_Hebrew_Japanese = gy.get_group(groups[160]).title\n",
    "English_French_Hindi_Japanese_Spanish = gy.get_group(groups[161]).title\n",
    "English_French_Portuguese_Spanish = gy.get_group(groups[162]).title\n",
    "English_French_Spanish_Swedish = gy.get_group(groups[163]).title\n",
    "English_Gaelic_Swedish = gy.get_group(groups[164]).title\n",
    "English_German_Greek = gy.get_group(groups[165]).title\n",
    "English_German_Hebrew = gy.get_group(groups[166]).title\n",
    "English_German_Hindi = gy.get_group(groups[167]).title\n",
    "English_German_Hungarian = gy.get_group(groups[168]).title\n",
    "English_German_Italian = gy.get_group(groups[169]).title\n",
    "English_German_Polish = gy.get_group(groups[170]).title\n",
    "English_German_Spanish = gy.get_group(groups[171]).title\n",
    "English_German_Greek_Italian = gy.get_group(groups[172]).title\n",
    "English_German_Greek_Spanish = gy.get_group(groups[173]).title\n",
    "English_German_Hungarian_Armenian = gy.get_group(groups[174]).title\n",
    "English_German_Italian_Spanish = gy.get_group(groups[175]).title\n",
    "English_German_Italian_Polish_Russian = gy.get_group(groups[176]).title\n",
    "English_Greek_Hebrew = gy.get_group(groups[177]).title\n",
    "English_Greek_Spanish = gy.get_group(groups[178]).title\n",
    "English_Hebrew_Armenian = gy.get_group(groups[179]).title\n",
    "English_Hebrew_Hindi = gy.get_group(groups[180]).title\n",
    "English_Hebrew_Japanese = gy.get_group(groups[181]).title\n",
    "English_Hebrew_Polish = gy.get_group(groups[182]).title\n",
    "English_Hebrew_Spanish = gy.get_group(groups[183]).title\n",
    "English_Hebrew_Hindi_Hungarian = gy.get_group(groups[184]).title\n",
    "English_Hindi_Hawaiian = gy.get_group(groups[185]).title\n",
    "English_Hindi_Indonesian = gy.get_group(groups[186]).title\n",
    "English_Hindi_Russian = gy.get_group(groups[187]).title\n",
    "English_Hindi_Welsh = gy.get_group(groups[188]).title\n",
    "English_Hungarian_Italian = gy.get_group(groups[189]).title\n",
    "English_Hungarian_Polish = gy.get_group(groups[190]).title\n",
    "English_Hungarian_Italian_Polish_Portuguese_Romanian_Spanish_Armenian = gy.get_group(groups[191]).title\n",
    "English_Indonesian_Polish = gy.get_group(groups[192]).title\n",
    "English_Italian_Polish = gy.get_group(groups[193]).title\n",
    "English_Italian_Portuguese = gy.get_group(groups[194]).title\n",
    "English_Italian_Spanish = gy.get_group(groups[195]).title\n",
    "English_Italian_Polish_Spanish = gy.get_group(groups[196]).title\n",
    "English_Italian_Polish_Spanish_Russian = gy.get_group(groups[197]).title\n",
    "English_Italian_Portuguese_Spanish = gy.get_group(groups[198]).title\n",
    "English_Italian_Portuguese_Swedish = gy.get_group(groups[199]).title\n",
    "English_Italian_Portuguese_Romanian_Spanish = gy.get_group(groups[200]).title\n",
    "English_Italian_Portuguese_Serbian_Spanish = gy.get_group(groups[201]).title\n",
    "English_Italian_Spanish_Swedish = gy.get_group(groups[202]).title\n",
    "English_Japanese_Welsh = gy.get_group(groups[203]).title\n",
    "English_Japanese_Yiddish = gy.get_group(groups[204]).title\n",
    "English_Japanese_Vietnamese_Welsh = gy.get_group(groups[205]).title\n",
    "English_Latvian_Lithuanian = gy.get_group(groups[206]).title\n",
    "English_Norwegian_Icelandic = gy.get_group(groups[207]).title\n",
    "English_Norwegian_Swedish = gy.get_group(groups[208]).title\n",
    "English_Norwegian_Polish_Swedish = gy.get_group(groups[209]).title\n",
    "English_Norwegian_Spanish_Swedish = gy.get_group(groups[210]).title\n",
    "English_Polish_Slovak = gy.get_group(groups[211]).title\n",
    "English_Polish_Spanish = gy.get_group(groups[212]).title\n",
    "English_Polish_Spanish_Russian = gy.get_group(groups[213]).title\n",
    "English_Polish_Swahili_Russian = gy.get_group(groups[214]).title\n",
    "English_Portuguese_Spanish = gy.get_group(groups[215]).title\n",
    "English_Portuguese_Spanish_Welsh = gy.get_group(groups[216]).title\n",
    "English_Romanian_Spanish = gy.get_group(groups[217]).title\n",
    "English_Russian_Armenian = gy.get_group(groups[218]).title\n",
    "English_Spanish_Swedish = gy.get_group(groups[219]).title\n",
    "English_Ukrainian_Russian = gy.get_group(groups[220]).title"
   ]
  },
  {
   "cell_type": "markdown",
   "metadata": {},
   "source": [
    "Now summarize the languages. For example, African_Arabic_English counted as african, Arabic_Englis counted as arabic and never count same name region catagory twice. "
   ]
  },
  {
   "cell_type": "code",
   "execution_count": 17,
   "metadata": {},
   "outputs": [],
   "source": [
    "african = African_Arabic_English.append(African_Arabic_English_Hebrew_Swahili).append(\n",
    "    African_Arabic_English_Hindi_Hungarian_Swahili).append(African_Arabic_English_Swahili).append(\n",
    "    African_Arabic_English_Swahili_Russian).append(\n",
    "    African_Bulgarian_Croatian_Czech_English_Polish_Serbian_Spanish_Swahili_Russian).append(African_English).append(\n",
    "    African_English_German_Swahili).append(African_English_Hebrew_Polish).append(African_English_Hebrew_Swahili)\n",
    "\n",
    "albanian = Albanian_English_Greek_Russian\n",
    "\n",
    "arabic = Arabic_Czech_English_Hebrew_Hindi_Polish_Slovak.append(Arabic_Czech_English_Slovak).append(\n",
    "    Arabic_English).append(Arabic_English_French_Greek_Armenian).append(Arabic_English_Greek).append(\n",
    "    Arabic_English_Hebrew).append(Arabic_English_Hindi).append(Arabic_English_Hindi_Spanish).append(\n",
    "    Arabic_English_Japanese).append(Arabic_English_Persian).append(Arabic_English_Polish).append(\n",
    "    Arabic_English_Portuguese_Spanish_Swahili).append(Arabic_English_Swahili)\n",
    "\n",
    "bulgarian = Bulgarian_Catalan_Czech_Dutch_English_Estonian_Finnish_German_Greek_Hindi_Hungarian_Italian_Japanese_Polish_Slovak_Armenian.append(\n",
    "    Bulgarian_Croatian_Czech_Dutch_English_Hungarian_Polish_Romanian_Serbian).append(\n",
    "    Bulgarian_Croatian_English_Hindi_Portuguese_Romanian_Serbian_Spanish).append(\n",
    "    Bulgarian_Croatian_English_Hungarian_Polish_Portuguese_Serbian_Russian_Armenian).append(\n",
    "    Bulgarian_Czech_Dutch_English_German_Polish_Romanian_Spanish).append(\n",
    "    Bulgarian_Czech_Dutch_English_German_Romanian_Russian).append(\n",
    "    Bulgarian_Czech_English_Polish_Serbian_Slovak_Russian).append(Bulgarian_Czech_English_Russian).append(\n",
    "    Bulgarian_English).append(Bulgarian_English_German_Greek_Italian_Polish_Portuguese_Serbian_Spanish_Russian).append(\n",
    "    Bulgarian_English_Greek_Lithuanian_Spanish_Russian).append(Bulgarian_English_Hebrew).append(\n",
    "    Bulgarian_English_Russian).append(Bulgarian_English_Spanish)\n",
    "\n",
    "catalan = Catalan_Dutch_English_Estonian_German_Greek_Hungarian_Italian_Norwegian_Polish_Portuguese_Slovak_Spanish_Swedish_Armenian.append(\n",
    "    Catalan_Dutch_English_German).append(Catalan_English).append(\n",
    "    Catalan_English_French_Hungarian_Norwegian_Polish_Spanish_Swedish_Armenian).append(\n",
    "    Catalan_English_French_Spanish_Swedish)\n",
    "\n",
    "chinese = Chinese_English\n",
    "\n",
    "croatian = Croatian_English_German_Hungarian_Lithuanian_Serbian_Swedish.append(Croatian_English_Serbian)\n",
    "\n",
    "czech = Czech_Danish_Dutch_English_French_German_Hungarian_Norwegian_Swedish.append(Czech_Danish_English_German).append(\n",
    "    Czech_Danish_English_German_Hungarian_Norwegian_Slovak_Swedish).append(Czech_Dutch_English_French_German).append(\n",
    "    Czech_Dutch_English_French_German_Hebrew_Polish_Portuguese_Romanian_Spanish_Armenian).append(\n",
    "    Czech_Dutch_English_German_Greek_Hungarian_Portuguese_Romanian_Slovak_Russian).append(\n",
    "    Czech_Dutch_English_German_Polish).append(Czech_English).append(Czech_English_French_German).append(\n",
    "    Czech_English_German_Hungarian_Polish).append(Czech_English_German_Hungarian_Polish_Romanian_Slovak).append(\n",
    "    Czech_English_German_Italian_Romanian_Spanish).append(Czech_English_German_Latvian_Lithuanian_Norwegian_Polish).append(\n",
    "    Czech_English_Greek_Russian).append(Czech_English_Hungarian_Japanese_Slovak).append(\n",
    "    Czech_English_Polish_Romanian_Spanish).append(Czech_English_Polish_Russian)\n",
    "\n",
    "danish = Danish_Dutch_English_French_German_Norwegian_Swedish.append(Danish_Dutch_English_French_Swedish).append(\n",
    "    Danish_Dutch_English_German_Norwegian).append(Danish_Dutch_English_Norwegian_Swedish).append(Danish_English).append(\n",
    "    Danish_English_French).append(Danish_English_French_Norwegian).append(Danish_English_German).append(\n",
    "    Danish_English_German_Italian_Norwegian_Portuguese_Spanish).append(Danish_English_German_Norwegian_Spanish).append(\n",
    "    Danish_English_German_Norwegian_Swedish).append(Danish_English_Hindi_Spanish).append(\n",
    "    Danish_English_Italian_Portuguese_Romanian_Spanish_Swedish).append(Danish_English_Norwegian).append(\n",
    "    Danish_English_Swedish)\n",
    "\n",
    "dutch = Dutch_English.append(Dutch_English_Estonian_German_Spanish_Armenian).append(\n",
    "    Dutch_English_Finnish_German_Japanese_Swedish).append(Dutch_English_Finnish_Hindi_Swedish).append(\n",
    "    Dutch_English_Finnish_Swedish).append(Dutch_English_French).append(Dutch_English_French_German).append(\n",
    "    Dutch_English_French_German_Norwegian).append(Dutch_English_French_German_Portuguese).append(\n",
    "    Dutch_English_French_German_Swahili).append(Dutch_English_French_Persian_Spanish).append(\n",
    "    Dutch_English_French_Spanish).append(Dutch_English_German).append(\n",
    "    Dutch_English_German_Hindi_Italian_Norwegian_Swedish).append(Dutch_English_German_Hungarian).append(\n",
    "    Dutch_English_German_Hungarian_Slovak).append(Dutch_English_German_Italian_Polish_Spanish).append(\n",
    "    Dutch_English_German_Norwegian_Swedish).append(Dutch_English_German_Polish).append(\n",
    "    Dutch_English_German_Portuguese_Spanish).append(Dutch_English_Hebrew).append(\n",
    "    Dutch_English_Italian_Portuguese_Spanish).append(Dutch_English_Italian_Spanish).append(Dutch_English_Polish).append(\n",
    "    Dutch_English_Polish)\n",
    "\n",
    "armenian = English_Armenian\n",
    "\n",
    "estonian = English_Estonian.append(English_Estonian_German)\n",
    "\n",
    "finnish = English_Finnish.append(English_Finnish_German).append(English_Finnish_German_Italian_Portuguese_Spanish).append(\n",
    "    English_Finnish_German_Spanish_Swedish).append(English_Finnish_Hindi).append(English_Finnish_Hindi_Italian_Spanish).append(\n",
    "    English_Finnish_Japanese).append(English_Finnish_Polish_Portuguese_Swedish).append(English_Finnish_Spanish)\n",
    "\n",
    "french = English_French.append(English_French_Armenian).append(English_French_German).append(\n",
    "    English_French_German_Greek).append(English_French_German_Hebrew_Norwegian_Swedish).append(\n",
    "    English_French_German_Italian).append(English_French_German_Polish).append(\n",
    "    English_French_German_Polish_Russian_Armenian).append(English_French_Greek).append(\n",
    "    English_French_Greek_Italian_Polish).append(English_French_Greek_Italian_Polish_Portuguese_Spanish).append(\n",
    "    English_French_Hebrew_Japanese).append(English_French_Hindi_Japanese_Spanish).append(English_French_Italian).append(\n",
    "    English_French_Norwegian).append(English_French_Polish).append(English_French_Portuguese_Spanish).append(\n",
    "    English_French_Spanish).append(English_French_Spanish_Swedish).append(English_French_Swedish).append(\n",
    "    English_French_Welsh)\n",
    "\n",
    "gaelic = English_Gaelic.append(English_Gaelic_Swedish)\n",
    "\n",
    "german = English_German.append(English_German_Greek).append(English_German_Greek_Italian).append(\n",
    "    English_German_Greek_Spanish).append(English_German_Hebrew).append(English_German_Hindi).append(\n",
    "    English_German_Hungarian).append(English_German_Hungarian_Armenian).append(English_German_Italian).append(\n",
    "    English_German_Italian_Polish_Russian).append(English_German_Italian_Spanish).append(English_German_Polish).append(\n",
    "    English_German_Spanish)\n",
    "\n",
    "greek = English_Greek.append(English_Greek_Hebrew).append(English_Greek_Spanish)\n",
    "\n",
    "hawaiian = English_Hawaiian\n",
    "\n",
    "hebrew = English_Hebrew.append(English_Hebrew_Armenian).append(English_Hebrew_Hindi).append(\n",
    "    English_Hebrew_Hindi_Hungarian).append(English_Hebrew_Japanese).append(English_Hebrew_Polish).append(\n",
    "    English_Hebrew_Spanish)\n",
    "\n",
    "hindi = English_Hindi.append(English_Hindi_Hawaiian).append(English_Hindi_Indonesian).append(English_Hindi_Russian).append(\n",
    "    English_Hindi_Welsh)\n",
    "\n",
    "hungarian = English_Hungarian.append(English_Hungarian_Italian).append(\n",
    "    English_Hungarian_Italian_Polish_Portuguese_Romanian_Spanish_Armenian).append(English_Hungarian_Polish)\n",
    "\n",
    "indonesian = English_Indonesian.append(English_Indonesian_Polish)\n",
    "\n",
    "italian = English_Italian.append(English_Italian_Polish).append(English_Italian_Polish_Spanish).append(\n",
    "    English_Italian_Polish_Spanish_Russian).append(English_Italian_Portuguese).append(\n",
    "    English_Italian_Portuguese_Romanian_Spanish).append(English_Italian_Portuguese_Serbian_Spanish).append(\n",
    "    English_Italian_Portuguese_Spanish).append(English_Italian_Portuguese_Swedish).append(\n",
    "    English_Italian_Spanish).append(English_Italian_Spanish_Swedish)\n",
    "\n",
    "japanese = English_Japanese.append(English_Japanese_Vietnamese_Welsh).append(English_Japanese_Welsh).append(\n",
    "    English_Japanese_Yiddish)\n",
    "\n",
    "norwegian = English_Norwegian.append(English_Norwegian_Icelandic).append(English_Norwegian_Polish_Swedish).append(\n",
    "    English_Norwegian_Spanish_Swedish).append(English_Norwegian_Swedish)\n",
    "\n",
    "persian = English_Persian\n",
    "\n",
    "polish = English_Polish.append(English_Polish_Slovak).append(English_Polish_Spanish).append(\n",
    "    English_Polish_Spanish_Russian).append(English_Polish_Swahili_Russian)\n",
    "\n",
    "portuguese = English_Portuguese.append(English_Portuguese_Spanish).append(English_Portuguese_Spanish_Welsh)\n",
    "\n",
    "romanian = English_Romanian.append(English_Romanian_Spanish)\n",
    "\n",
    "russian = English_Russian.append(English_Russian_Armenian)\n",
    "\n",
    "slovak = English_Slovak\n",
    "\n",
    "spanish = English_Spanish.append(English_Spanish_Swedish)\n",
    "\n",
    "swahili = English_Swahili\n",
    "\n",
    "swedish = English_Swedish\n",
    "\n",
    "turkish = English_Turkish\n",
    "\n",
    "urdu = English_Urdu\n",
    "\n",
    "vietnamese = English_Vietnamese\n",
    "\n",
    "welsh = English_Welsh\n",
    "\n",
    "yiddish = English_Yiddish\n",
    "\n",
    "english = English\n",
    "\n",
    "latvian = English_Latvian_Lithuanian\n",
    "\n",
    "ukrainian = English_Ukrainian_Russian"
   ]
  },
  {
   "cell_type": "code",
   "execution_count": 18,
   "metadata": {},
   "outputs": [],
   "source": [
    "df2 = df2.drop(['1 for Euro Name: Original', 'European Name'], axis=1)"
   ]
  },
  {
   "cell_type": "code",
   "execution_count": 19,
   "metadata": {},
   "outputs": [],
   "source": [
    "#42 catagories\n",
    "l = ['african', 'albanian', 'arabic', 'bulgarian', 'catalan', 'chinese', 'croatian', 'czech', 'danish', 'dutch'\n",
    "     , 'armenian', 'estonian', 'finnish', 'french', 'gaelic', 'german', 'greek', 'hawaiian', 'hebrew', 'hindi'\n",
    "     , 'hungarian', 'indonesian', 'italian', 'japanese', 'norwegian', 'persian', 'polish', 'portuguese', 'romanian'\n",
    "     , 'russian', 'slovak', 'spanish', 'swahili', 'swedish', 'turkish', 'urdu', 'vietnamese', 'welsh', 'yiddish'\n",
    "     , 'english', 'latvian', 'ukrainian']\n",
    "for col in l:\n",
    "    df2[col] = 0"
   ]
  },
  {
   "cell_type": "code",
   "execution_count": 20,
   "metadata": {},
   "outputs": [
    {
     "data": {
      "text/html": [
       "<div>\n",
       "<style scoped>\n",
       "    .dataframe tbody tr th:only-of-type {\n",
       "        vertical-align: middle;\n",
       "    }\n",
       "\n",
       "    .dataframe tbody tr th {\n",
       "        vertical-align: top;\n",
       "    }\n",
       "\n",
       "    .dataframe thead th {\n",
       "        text-align: right;\n",
       "    }\n",
       "</style>\n",
       "<table border=\"1\" class=\"dataframe\">\n",
       "  <thead>\n",
       "    <tr style=\"text-align: right;\">\n",
       "      <th></th>\n",
       "      <th>ID</th>\n",
       "      <th>name</th>\n",
       "      <th>city</th>\n",
       "      <th>dob</th>\n",
       "      <th>african</th>\n",
       "      <th>albanian</th>\n",
       "      <th>arabic</th>\n",
       "      <th>bulgarian</th>\n",
       "      <th>catalan</th>\n",
       "      <th>chinese</th>\n",
       "      <th>...</th>\n",
       "      <th>swahili</th>\n",
       "      <th>swedish</th>\n",
       "      <th>turkish</th>\n",
       "      <th>urdu</th>\n",
       "      <th>vietnamese</th>\n",
       "      <th>welsh</th>\n",
       "      <th>yiddish</th>\n",
       "      <th>english</th>\n",
       "      <th>latvian</th>\n",
       "      <th>ukrainian</th>\n",
       "    </tr>\n",
       "  </thead>\n",
       "  <tbody>\n",
       "    <tr>\n",
       "      <th>0</th>\n",
       "      <td>82336</td>\n",
       "      <td>Canngegasick</td>\n",
       "      <td>Norwood, Charlevoix, Michigan</td>\n",
       "      <td>1859</td>\n",
       "      <td>0</td>\n",
       "      <td>0</td>\n",
       "      <td>0</td>\n",
       "      <td>0</td>\n",
       "      <td>0</td>\n",
       "      <td>0</td>\n",
       "      <td>...</td>\n",
       "      <td>0</td>\n",
       "      <td>0</td>\n",
       "      <td>0</td>\n",
       "      <td>0</td>\n",
       "      <td>0</td>\n",
       "      <td>0</td>\n",
       "      <td>0</td>\n",
       "      <td>0</td>\n",
       "      <td>0</td>\n",
       "      <td>0</td>\n",
       "    </tr>\n",
       "    <tr>\n",
       "      <th>1</th>\n",
       "      <td>84111</td>\n",
       "      <td>Casbellos</td>\n",
       "      <td>San Juan Pueblo, Rio Arriba, New Mexico</td>\n",
       "      <td>1848</td>\n",
       "      <td>0</td>\n",
       "      <td>0</td>\n",
       "      <td>0</td>\n",
       "      <td>0</td>\n",
       "      <td>0</td>\n",
       "      <td>0</td>\n",
       "      <td>...</td>\n",
       "      <td>0</td>\n",
       "      <td>0</td>\n",
       "      <td>0</td>\n",
       "      <td>0</td>\n",
       "      <td>0</td>\n",
       "      <td>0</td>\n",
       "      <td>0</td>\n",
       "      <td>0</td>\n",
       "      <td>0</td>\n",
       "      <td>0</td>\n",
       "    </tr>\n",
       "    <tr>\n",
       "      <th>2</th>\n",
       "      <td>176251</td>\n",
       "      <td>Maymahakawahcuming</td>\n",
       "      <td>White Earth Indian Reservation, Becker, Minnesota</td>\n",
       "      <td>1888</td>\n",
       "      <td>0</td>\n",
       "      <td>0</td>\n",
       "      <td>0</td>\n",
       "      <td>0</td>\n",
       "      <td>0</td>\n",
       "      <td>0</td>\n",
       "      <td>...</td>\n",
       "      <td>0</td>\n",
       "      <td>0</td>\n",
       "      <td>0</td>\n",
       "      <td>0</td>\n",
       "      <td>0</td>\n",
       "      <td>0</td>\n",
       "      <td>0</td>\n",
       "      <td>0</td>\n",
       "      <td>0</td>\n",
       "      <td>0</td>\n",
       "    </tr>\n",
       "    <tr>\n",
       "      <th>3</th>\n",
       "      <td>209123</td>\n",
       "      <td>Rocks</td>\n",
       "      <td>Smith River, Del Norte, California</td>\n",
       "      <td>1893</td>\n",
       "      <td>0</td>\n",
       "      <td>0</td>\n",
       "      <td>0</td>\n",
       "      <td>0</td>\n",
       "      <td>0</td>\n",
       "      <td>0</td>\n",
       "      <td>...</td>\n",
       "      <td>0</td>\n",
       "      <td>0</td>\n",
       "      <td>0</td>\n",
       "      <td>0</td>\n",
       "      <td>0</td>\n",
       "      <td>0</td>\n",
       "      <td>0</td>\n",
       "      <td>0</td>\n",
       "      <td>0</td>\n",
       "      <td>0</td>\n",
       "    </tr>\n",
       "    <tr>\n",
       "      <th>4</th>\n",
       "      <td>228206</td>\n",
       "      <td>Stands On Top</td>\n",
       "      <td>Crow Creek Indian Reservation, Buffalo, South ...</td>\n",
       "      <td>1864</td>\n",
       "      <td>0</td>\n",
       "      <td>0</td>\n",
       "      <td>0</td>\n",
       "      <td>0</td>\n",
       "      <td>0</td>\n",
       "      <td>0</td>\n",
       "      <td>...</td>\n",
       "      <td>0</td>\n",
       "      <td>0</td>\n",
       "      <td>0</td>\n",
       "      <td>0</td>\n",
       "      <td>0</td>\n",
       "      <td>0</td>\n",
       "      <td>0</td>\n",
       "      <td>0</td>\n",
       "      <td>0</td>\n",
       "      <td>0</td>\n",
       "    </tr>\n",
       "  </tbody>\n",
       "</table>\n",
       "<p>5 rows × 46 columns</p>\n",
       "</div>"
      ],
      "text/plain": [
       "       ID                 name  \\\n",
       "0   82336         Canngegasick   \n",
       "1   84111            Casbellos   \n",
       "2  176251   Maymahakawahcuming   \n",
       "3  209123                Rocks   \n",
       "4  228206        Stands On Top   \n",
       "\n",
       "                                                city   dob  african  albanian  \\\n",
       "0                      Norwood, Charlevoix, Michigan  1859        0         0   \n",
       "1            San Juan Pueblo, Rio Arriba, New Mexico  1848        0         0   \n",
       "2  White Earth Indian Reservation, Becker, Minnesota  1888        0         0   \n",
       "3                 Smith River, Del Norte, California  1893        0         0   \n",
       "4  Crow Creek Indian Reservation, Buffalo, South ...  1864        0         0   \n",
       "\n",
       "   arabic  bulgarian  catalan  chinese  ...  swahili  swedish  turkish  urdu  \\\n",
       "0       0          0        0        0  ...        0        0        0     0   \n",
       "1       0          0        0        0  ...        0        0        0     0   \n",
       "2       0          0        0        0  ...        0        0        0     0   \n",
       "3       0          0        0        0  ...        0        0        0     0   \n",
       "4       0          0        0        0  ...        0        0        0     0   \n",
       "\n",
       "   vietnamese  welsh  yiddish  english  latvian  ukrainian  \n",
       "0           0      0        0        0        0          0  \n",
       "1           0      0        0        0        0          0  \n",
       "2           0      0        0        0        0          0  \n",
       "3           0      0        0        0        0          0  \n",
       "4           0      0        0        0        0          0  \n",
       "\n",
       "[5 rows x 46 columns]"
      ]
     },
     "execution_count": 20,
     "metadata": {},
     "output_type": "execute_result"
    }
   ],
   "source": [
    "df2.head()"
   ]
  },
  {
   "cell_type": "code",
   "execution_count": 21,
   "metadata": {},
   "outputs": [],
   "source": [
    "df3 = df2"
   ]
  },
  {
   "cell_type": "markdown",
   "metadata": {},
   "source": [
    "Start compare names in census data to the known name data"
   ]
  },
  {
   "cell_type": "code",
   "execution_count": 15,
   "metadata": {},
   "outputs": [
    {
     "name": "stderr",
     "output_type": "stream",
     "text": [
      "/Users/haizhouli/anaconda3/lib/python3.7/site-packages/ipykernel_launcher.py:5: SettingWithCopyWarning: \n",
      "A value is trying to be set on a copy of a slice from a DataFrame\n",
      "\n",
      "See the caveats in the documentation: http://pandas.pydata.org/pandas-docs/stable/indexing.html#indexing-view-versus-copy\n",
      "  \"\"\"\n"
     ]
    }
   ],
   "source": [
    "#0 to 9999 \n",
    "for i in range(10000):\n",
    "    for j in range(len(african)):\n",
    "        x = who.ratio(id[i], african[african.index[j]])\n",
    "        if x > df3['african'][i]:\n",
    "            df3['african'][i] = x"
   ]
  },
  {
   "cell_type": "code",
   "execution_count": 21,
   "metadata": {},
   "outputs": [
    {
     "name": "stderr",
     "output_type": "stream",
     "text": [
      "/Users/haizhouli/anaconda3/lib/python3.7/site-packages/ipykernel_launcher.py:5: SettingWithCopyWarning: \n",
      "A value is trying to be set on a copy of a slice from a DataFrame\n",
      "\n",
      "See the caveats in the documentation: http://pandas.pydata.org/pandas-docs/stable/indexing.html#indexing-view-versus-copy\n",
      "  \"\"\"\n"
     ]
    }
   ],
   "source": [
    "#10000 to 19999 Takes 39 minutes to run this cell code\n",
    "for i in range(10000):\n",
    "    for j in range(len(african)):\n",
    "        x = who.ratio(id[10000+i], african[african.index[j]])\n",
    "        if x > df3['african'][10000+i]:\n",
    "            df3['african'][10000+i] = x"
   ]
  },
  {
   "cell_type": "code",
   "execution_count": 24,
   "metadata": {},
   "outputs": [
    {
     "name": "stderr",
     "output_type": "stream",
     "text": [
      "/Users/haizhouli/anaconda3/lib/python3.7/site-packages/ipykernel_launcher.py:5: SettingWithCopyWarning: \n",
      "A value is trying to be set on a copy of a slice from a DataFrame\n",
      "\n",
      "See the caveats in the documentation: http://pandas.pydata.org/pandas-docs/stable/indexing.html#indexing-view-versus-copy\n",
      "  \"\"\"\n"
     ]
    }
   ],
   "source": [
    "#20000 to 29999 \n",
    "for i in range(10000):\n",
    "    for j in range(len(african)):\n",
    "        x = who.ratio(id[20000+i], african[african.index[j]])\n",
    "        if x > df3['african'][20000+i]:\n",
    "            df3['african'][20000+i] = x"
   ]
  },
  {
   "cell_type": "code",
   "execution_count": 26,
   "metadata": {},
   "outputs": [
    {
     "name": "stderr",
     "output_type": "stream",
     "text": [
      "/Users/haizhouli/anaconda3/lib/python3.7/site-packages/ipykernel_launcher.py:6: SettingWithCopyWarning: \n",
      "A value is trying to be set on a copy of a slice from a DataFrame\n",
      "\n",
      "See the caveats in the documentation: http://pandas.pydata.org/pandas-docs/stable/indexing.html#indexing-view-versus-copy\n",
      "  \n"
     ]
    }
   ],
   "source": [
    "#30000 to 39999 \n",
    "for i in range(10000):\n",
    "    for j in range(len(african)):\n",
    "        x = who.ratio(id[30000+i], african[african.index[j]])\n",
    "        if x > df3['african'][30000+i]:\n",
    "            df3['african'][30000+i] = x"
   ]
  },
  {
   "cell_type": "code",
   "execution_count": 29,
   "metadata": {},
   "outputs": [
    {
     "name": "stderr",
     "output_type": "stream",
     "text": [
      "/Users/haizhouli/anaconda3/lib/python3.7/site-packages/ipykernel_launcher.py:6: SettingWithCopyWarning: \n",
      "A value is trying to be set on a copy of a slice from a DataFrame\n",
      "\n",
      "See the caveats in the documentation: http://pandas.pydata.org/pandas-docs/stable/indexing.html#indexing-view-versus-copy\n",
      "  \n"
     ]
    }
   ],
   "source": [
    "#40000 to 49999 This cell took me over 55 mins to run it\n",
    "for i in range(10000):\n",
    "    for j in range(len(african)):\n",
    "        x = who.ratio(id[40000+i], african[african.index[j]])\n",
    "        if x > df3['african'][40000+i]:\n",
    "            df3['african'][40000+i] = x"
   ]
  },
  {
   "cell_type": "code",
   "execution_count": 31,
   "metadata": {},
   "outputs": [
    {
     "name": "stderr",
     "output_type": "stream",
     "text": [
      "/Users/haizhouli/anaconda3/lib/python3.7/site-packages/ipykernel_launcher.py:6: SettingWithCopyWarning: \n",
      "A value is trying to be set on a copy of a slice from a DataFrame\n",
      "\n",
      "See the caveats in the documentation: http://pandas.pydata.org/pandas-docs/stable/indexing.html#indexing-view-versus-copy\n",
      "  \n"
     ]
    }
   ],
   "source": [
    "#50000 to 59999 (50mins)\n",
    "for i in range(10000):\n",
    "    for j in range(len(african)):\n",
    "        x = who.ratio(id[50000+i], african[african.index[j]])\n",
    "        if x > df3['african'][50000+i]:\n",
    "            df3['african'][50000+i] = x"
   ]
  },
  {
   "cell_type": "code",
   "execution_count": 33,
   "metadata": {},
   "outputs": [
    {
     "name": "stderr",
     "output_type": "stream",
     "text": [
      "/Users/haizhouli/anaconda3/lib/python3.7/site-packages/ipykernel_launcher.py:6: SettingWithCopyWarning: \n",
      "A value is trying to be set on a copy of a slice from a DataFrame\n",
      "\n",
      "See the caveats in the documentation: http://pandas.pydata.org/pandas-docs/stable/indexing.html#indexing-view-versus-copy\n",
      "  \n"
     ]
    }
   ],
   "source": [
    "#60000 to 69999 \n",
    "for i in range(10000):\n",
    "    for j in range(len(african)):\n",
    "        x = who.ratio(id[60000+i], african[african.index[j]])\n",
    "        if x > df3['african'][60000+i]:\n",
    "            df3['african'][60000+i] = x"
   ]
  },
  {
   "cell_type": "code",
   "execution_count": 40,
   "metadata": {},
   "outputs": [
    {
     "name": "stderr",
     "output_type": "stream",
     "text": [
      "/Users/haizhouli/anaconda3/lib/python3.7/site-packages/ipykernel_launcher.py:6: SettingWithCopyWarning: \n",
      "A value is trying to be set on a copy of a slice from a DataFrame\n",
      "\n",
      "See the caveats in the documentation: http://pandas.pydata.org/pandas-docs/stable/indexing.html#indexing-view-versus-copy\n",
      "  \n"
     ]
    }
   ],
   "source": [
    "#70000 to 79999 \n",
    "for i in range(10000):\n",
    "    for j in range(len(african)):\n",
    "        x = who.ratio(id[70000+i], african[african.index[j]])\n",
    "        if x > df3['african'][70000+i]:\n",
    "            df3['african'][70000+i] = x"
   ]
  },
  {
   "cell_type": "code",
   "execution_count": 44,
   "metadata": {},
   "outputs": [
    {
     "name": "stderr",
     "output_type": "stream",
     "text": [
      "/Users/haizhouli/anaconda3/lib/python3.7/site-packages/ipykernel_launcher.py:7: SettingWithCopyWarning: \n",
      "A value is trying to be set on a copy of a slice from a DataFrame\n",
      "\n",
      "See the caveats in the documentation: http://pandas.pydata.org/pandas-docs/stable/indexing.html#indexing-view-versus-copy\n",
      "  import sys\n"
     ]
    },
    {
     "name": "stdout",
     "output_type": "stream",
     "text": [
      "0:44:19.347847\n"
     ]
    }
   ],
   "source": [
    "#80000 to 89999 \n",
    "begin_time = datetime.datetime.now()\n",
    "for i in range(10000):\n",
    "    for j in range(len(african)):\n",
    "        x = who.ratio(id[80000+i], african[african.index[j]])\n",
    "        if x > df3['african'][80000+i]:\n",
    "            df3['african'][80000+i] = x\n",
    "print(datetime.datetime.now() - begin_time)"
   ]
  },
  {
   "cell_type": "code",
   "execution_count": 46,
   "metadata": {},
   "outputs": [
    {
     "name": "stderr",
     "output_type": "stream",
     "text": [
      "/Users/haizhouli/anaconda3/lib/python3.7/site-packages/ipykernel_launcher.py:7: SettingWithCopyWarning: \n",
      "A value is trying to be set on a copy of a slice from a DataFrame\n",
      "\n",
      "See the caveats in the documentation: http://pandas.pydata.org/pandas-docs/stable/indexing.html#indexing-view-versus-copy\n",
      "  import sys\n"
     ]
    },
    {
     "name": "stdout",
     "output_type": "stream",
     "text": [
      "0:56:42.975020\n"
     ]
    }
   ],
   "source": [
    "#90000 to 99999 \n",
    "begin_time = datetime.datetime.now()\n",
    "for i in range(10000):\n",
    "    for j in range(len(african)):\n",
    "        x = who.ratio(id[90000+i], african[african.index[j]])\n",
    "        if x > df3['african'][90000+i]:\n",
    "            df3['african'][90000+i] = x\n",
    "print(datetime.datetime.now() - begin_time)"
   ]
  },
  {
   "cell_type": "code",
   "execution_count": 54,
   "metadata": {},
   "outputs": [
    {
     "name": "stderr",
     "output_type": "stream",
     "text": [
      "/Users/haizhouli/anaconda3/lib/python3.7/site-packages/ipykernel_launcher.py:7: SettingWithCopyWarning: \n",
      "A value is trying to be set on a copy of a slice from a DataFrame\n",
      "\n",
      "See the caveats in the documentation: http://pandas.pydata.org/pandas-docs/stable/indexing.html#indexing-view-versus-copy\n",
      "  import sys\n"
     ]
    },
    {
     "name": "stdout",
     "output_type": "stream",
     "text": [
      "running time used: 0:58:50.327537\n"
     ]
    }
   ],
   "source": [
    "#100000 to 109999 \n",
    "begin_time = datetime.datetime.now()\n",
    "for i in range(10000):\n",
    "    for j in range(len(african)):\n",
    "        x = who.ratio(id[100000+i], african[african.index[j]])\n",
    "        if x > df3['african'][100000+i]:\n",
    "            df3['african'][100000+i] = x\n",
    "print('running time used:', datetime.datetime.now() - begin_time)"
   ]
  },
  {
   "cell_type": "code",
   "execution_count": 60,
   "metadata": {},
   "outputs": [
    {
     "name": "stderr",
     "output_type": "stream",
     "text": [
      "/Users/haizhouli/anaconda3/lib/python3.7/site-packages/ipykernel_launcher.py:7: SettingWithCopyWarning: \n",
      "A value is trying to be set on a copy of a slice from a DataFrame\n",
      "\n",
      "See the caveats in the documentation: http://pandas.pydata.org/pandas-docs/stable/indexing.html#indexing-view-versus-copy\n",
      "  import sys\n"
     ]
    },
    {
     "name": "stdout",
     "output_type": "stream",
     "text": [
      "running time used: 1:08:47.416292\n"
     ]
    }
   ],
   "source": [
    "#110000 to 119999 \n",
    "begin_time = datetime.datetime.now()\n",
    "for i in range(10000):\n",
    "    for j in range(len(african)):\n",
    "        x = who.ratio(id[110000+i], african[african.index[j]])\n",
    "        if x > df3['african'][110000+i]:\n",
    "            df3['african'][110000+i] = x\n",
    "print('time used:', datetime.datetime.now() - begin_time)"
   ]
  },
  {
   "cell_type": "code",
   "execution_count": 62,
   "metadata": {},
   "outputs": [
    {
     "name": "stderr",
     "output_type": "stream",
     "text": [
      "/Users/haizhouli/anaconda3/lib/python3.7/site-packages/ipykernel_launcher.py:7: SettingWithCopyWarning: \n",
      "A value is trying to be set on a copy of a slice from a DataFrame\n",
      "\n",
      "See the caveats in the documentation: http://pandas.pydata.org/pandas-docs/stable/indexing.html#indexing-view-versus-copy\n",
      "  import sys\n"
     ]
    },
    {
     "name": "stdout",
     "output_type": "stream",
     "text": [
      "time used: 1:04:49.259037\n"
     ]
    }
   ],
   "source": [
    "#120000 to 129999 \n",
    "begin_time = datetime.datetime.now()\n",
    "for i in range(10000):\n",
    "    for j in range(len(african)):\n",
    "        x = who.ratio(id[120000+i], african[african.index[j]])\n",
    "        if x > df3['african'][120000+i]:\n",
    "            df3['african'][120000+i] = x\n",
    "print('time used:', datetime.datetime.now() - begin_time)"
   ]
  },
  {
   "cell_type": "code",
   "execution_count": 63,
   "metadata": {},
   "outputs": [
    {
     "name": "stderr",
     "output_type": "stream",
     "text": [
      "/Users/haizhouli/anaconda3/lib/python3.7/site-packages/ipykernel_launcher.py:7: SettingWithCopyWarning: \n",
      "A value is trying to be set on a copy of a slice from a DataFrame\n",
      "\n",
      "See the caveats in the documentation: http://pandas.pydata.org/pandas-docs/stable/indexing.html#indexing-view-versus-copy\n",
      "  import sys\n"
     ]
    },
    {
     "name": "stdout",
     "output_type": "stream",
     "text": [
      "time used: 1:06:31.477480\n"
     ]
    }
   ],
   "source": [
    "#130000 to 139999 \n",
    "begin_time = datetime.datetime.now()\n",
    "for i in range(10000):\n",
    "    for j in range(len(african)):\n",
    "        x = who.ratio(id[130000+i], african[african.index[j]])\n",
    "        if x > df3['african'][130000+i]:\n",
    "            df3['african'][130000+i] = x\n",
    "print('time used:', datetime.datetime.now() - begin_time)"
   ]
  },
  {
   "cell_type": "code",
   "execution_count": 69,
   "metadata": {},
   "outputs": [
    {
     "name": "stderr",
     "output_type": "stream",
     "text": [
      "/Users/haizhouli/anaconda3/lib/python3.7/site-packages/ipykernel_launcher.py:7: SettingWithCopyWarning: \n",
      "A value is trying to be set on a copy of a slice from a DataFrame\n",
      "\n",
      "See the caveats in the documentation: http://pandas.pydata.org/pandas-docs/stable/indexing.html#indexing-view-versus-copy\n",
      "  import sys\n"
     ]
    },
    {
     "name": "stdout",
     "output_type": "stream",
     "text": [
      "time used: 1:06:17.944345\n"
     ]
    }
   ],
   "source": [
    "#140000 to 149999 \n",
    "begin_time = datetime.datetime.now()\n",
    "for i in range(10000):\n",
    "    for j in range(len(african)):\n",
    "        x = who.ratio(id[140000+i], african[african.index[j]])\n",
    "        if x > df3['african'][140000+i]:\n",
    "            df3['african'][140000+i] = x\n",
    "print('time used:', datetime.datetime.now() - begin_time)"
   ]
  },
  {
   "cell_type": "code",
   "execution_count": 70,
   "metadata": {},
   "outputs": [
    {
     "name": "stderr",
     "output_type": "stream",
     "text": [
      "/Users/haizhouli/anaconda3/lib/python3.7/site-packages/ipykernel_launcher.py:7: SettingWithCopyWarning: \n",
      "A value is trying to be set on a copy of a slice from a DataFrame\n",
      "\n",
      "See the caveats in the documentation: http://pandas.pydata.org/pandas-docs/stable/indexing.html#indexing-view-versus-copy\n",
      "  import sys\n"
     ]
    },
    {
     "name": "stdout",
     "output_type": "stream",
     "text": [
      "time used: 0:55:26.140294\n"
     ]
    }
   ],
   "source": [
    "#150000 to 159999 \n",
    "begin_time = datetime.datetime.now()\n",
    "for i in range(10000):\n",
    "    for j in range(len(african)):\n",
    "        x = who.ratio(id[150000+i], african[african.index[j]])\n",
    "        if x > df3['african'][150000+i]:\n",
    "            df3['african'][150000+i] = x\n",
    "print('time used:', datetime.datetime.now() - begin_time)"
   ]
  },
  {
   "cell_type": "code",
   "execution_count": 71,
   "metadata": {},
   "outputs": [
    {
     "name": "stderr",
     "output_type": "stream",
     "text": [
      "/Users/haizhouli/anaconda3/lib/python3.7/site-packages/ipykernel_launcher.py:7: SettingWithCopyWarning: \n",
      "A value is trying to be set on a copy of a slice from a DataFrame\n",
      "\n",
      "See the caveats in the documentation: http://pandas.pydata.org/pandas-docs/stable/indexing.html#indexing-view-versus-copy\n",
      "  import sys\n"
     ]
    },
    {
     "name": "stdout",
     "output_type": "stream",
     "text": [
      "time used: 0:23:24.811052\n"
     ]
    }
   ],
   "source": [
    "#160000 to 169999 \n",
    "begin_time = datetime.datetime.now()\n",
    "for i in range(10000):\n",
    "    for j in range(len(african)):\n",
    "        x = who.ratio(id[160000+i], african[african.index[j]])\n",
    "        if x > df3['african'][160000+i]:\n",
    "            df3['african'][160000+i] = x\n",
    "print('time used:', datetime.datetime.now() - begin_time)"
   ]
  },
  {
   "cell_type": "code",
   "execution_count": 72,
   "metadata": {},
   "outputs": [
    {
     "name": "stderr",
     "output_type": "stream",
     "text": [
      "/Users/haizhouli/anaconda3/lib/python3.7/site-packages/ipykernel_launcher.py:7: SettingWithCopyWarning: \n",
      "A value is trying to be set on a copy of a slice from a DataFrame\n",
      "\n",
      "See the caveats in the documentation: http://pandas.pydata.org/pandas-docs/stable/indexing.html#indexing-view-versus-copy\n",
      "  import sys\n"
     ]
    },
    {
     "name": "stdout",
     "output_type": "stream",
     "text": [
      "time used: 0:55:31.745706\n"
     ]
    }
   ],
   "source": [
    "#170000 to 179999 \n",
    "begin_time = datetime.datetime.now()\n",
    "for i in range(10000):\n",
    "    for j in range(len(african)):\n",
    "        x = who.ratio(id[170000+i], african[african.index[j]])\n",
    "        if x > df3['african'][170000+i]:\n",
    "            df3['african'][170000+i] = x\n",
    "print('time used:', datetime.datetime.now() - begin_time)"
   ]
  },
  {
   "cell_type": "code",
   "execution_count": 73,
   "metadata": {},
   "outputs": [
    {
     "name": "stderr",
     "output_type": "stream",
     "text": [
      "/Users/haizhouli/anaconda3/lib/python3.7/site-packages/ipykernel_launcher.py:7: SettingWithCopyWarning: \n",
      "A value is trying to be set on a copy of a slice from a DataFrame\n",
      "\n",
      "See the caveats in the documentation: http://pandas.pydata.org/pandas-docs/stable/indexing.html#indexing-view-versus-copy\n",
      "  import sys\n"
     ]
    },
    {
     "name": "stdout",
     "output_type": "stream",
     "text": [
      "time used: 1:31:59.377666\n"
     ]
    }
   ],
   "source": [
    "#180000 to 189999 \n",
    "begin_time = datetime.datetime.now()\n",
    "for i in range(10000):\n",
    "    for j in range(len(african)):\n",
    "        x = who.ratio(id[180000+i], african[african.index[j]])\n",
    "        if x > df3['african'][180000+i]:\n",
    "            df3['african'][180000+i] = x\n",
    "print('time used:', datetime.datetime.now() - begin_time)"
   ]
  },
  {
   "cell_type": "code",
   "execution_count": 74,
   "metadata": {},
   "outputs": [
    {
     "name": "stderr",
     "output_type": "stream",
     "text": [
      "/Users/haizhouli/anaconda3/lib/python3.7/site-packages/ipykernel_launcher.py:7: SettingWithCopyWarning: \n",
      "A value is trying to be set on a copy of a slice from a DataFrame\n",
      "\n",
      "See the caveats in the documentation: http://pandas.pydata.org/pandas-docs/stable/indexing.html#indexing-view-versus-copy\n",
      "  import sys\n"
     ]
    },
    {
     "name": "stdout",
     "output_type": "stream",
     "text": [
      "time used: 1:00:52.188613\n"
     ]
    }
   ],
   "source": [
    "#190000 to 199999 \n",
    "begin_time = datetime.datetime.now()\n",
    "for i in range(10000):\n",
    "    for j in range(len(african)):\n",
    "        x = who.ratio(id[190000+i], african[african.index[j]])\n",
    "        if x > df3['african'][190000+i]:\n",
    "            df3['african'][190000+i] = x\n",
    "print('time used:', datetime.datetime.now() - begin_time)"
   ]
  },
  {
   "cell_type": "code",
   "execution_count": 75,
   "metadata": {},
   "outputs": [
    {
     "name": "stderr",
     "output_type": "stream",
     "text": [
      "/Users/haizhouli/anaconda3/lib/python3.7/site-packages/ipykernel_launcher.py:7: SettingWithCopyWarning: \n",
      "A value is trying to be set on a copy of a slice from a DataFrame\n",
      "\n",
      "See the caveats in the documentation: http://pandas.pydata.org/pandas-docs/stable/indexing.html#indexing-view-versus-copy\n",
      "  import sys\n"
     ]
    },
    {
     "name": "stdout",
     "output_type": "stream",
     "text": [
      "time used: 0:44:53.073124\n"
     ]
    }
   ],
   "source": [
    "#200000 to 209999 \n",
    "begin_time = datetime.datetime.now()\n",
    "for i in range(10000):\n",
    "    for j in range(len(african)):\n",
    "        x = who.ratio(id[200000+i], african[african.index[j]])\n",
    "        if x > df3['african'][200000+i]:\n",
    "            df3['african'][200000+i] = x\n",
    "print('time used:', datetime.datetime.now() - begin_time)"
   ]
  },
  {
   "cell_type": "code",
   "execution_count": 76,
   "metadata": {},
   "outputs": [
    {
     "name": "stderr",
     "output_type": "stream",
     "text": [
      "/Users/haizhouli/anaconda3/lib/python3.7/site-packages/ipykernel_launcher.py:7: SettingWithCopyWarning: \n",
      "A value is trying to be set on a copy of a slice from a DataFrame\n",
      "\n",
      "See the caveats in the documentation: http://pandas.pydata.org/pandas-docs/stable/indexing.html#indexing-view-versus-copy\n",
      "  import sys\n"
     ]
    },
    {
     "name": "stdout",
     "output_type": "stream",
     "text": [
      "time used: 0:56:21.926043\n"
     ]
    }
   ],
   "source": [
    "#210000 to 219999 \n",
    "begin_time = datetime.datetime.now()\n",
    "for i in range(10000):\n",
    "    for j in range(len(african)):\n",
    "        x = who.ratio(id[210000+i], african[african.index[j]])\n",
    "        if x > df3['african'][210000+i]:\n",
    "            df3['african'][210000+i] = x\n",
    "print('time used:', datetime.datetime.now() - begin_time)"
   ]
  },
  {
   "cell_type": "code",
   "execution_count": 77,
   "metadata": {},
   "outputs": [
    {
     "name": "stderr",
     "output_type": "stream",
     "text": [
      "/Users/haizhouli/anaconda3/lib/python3.7/site-packages/ipykernel_launcher.py:7: SettingWithCopyWarning: \n",
      "A value is trying to be set on a copy of a slice from a DataFrame\n",
      "\n",
      "See the caveats in the documentation: http://pandas.pydata.org/pandas-docs/stable/indexing.html#indexing-view-versus-copy\n",
      "  import sys\n"
     ]
    },
    {
     "name": "stdout",
     "output_type": "stream",
     "text": [
      "time used: 0:48:16.165676\n"
     ]
    }
   ],
   "source": [
    "#220000 to 229999 \n",
    "begin_time = datetime.datetime.now()\n",
    "for i in range(10000):\n",
    "    for j in range(len(african)):\n",
    "        x = who.ratio(id[220000+i], african[african.index[j]])\n",
    "        if x > df3['african'][220000+i]:\n",
    "            df3['african'][220000+i] = x\n",
    "print('time used:', datetime.datetime.now() - begin_time)"
   ]
  },
  {
   "cell_type": "code",
   "execution_count": 78,
   "metadata": {},
   "outputs": [
    {
     "name": "stderr",
     "output_type": "stream",
     "text": [
      "/Users/haizhouli/anaconda3/lib/python3.7/site-packages/ipykernel_launcher.py:7: SettingWithCopyWarning: \n",
      "A value is trying to be set on a copy of a slice from a DataFrame\n",
      "\n",
      "See the caveats in the documentation: http://pandas.pydata.org/pandas-docs/stable/indexing.html#indexing-view-versus-copy\n",
      "  import sys\n"
     ]
    },
    {
     "name": "stdout",
     "output_type": "stream",
     "text": [
      "time used: 1:01:29.037730\n"
     ]
    }
   ],
   "source": [
    "#230000 to 239999 \n",
    "begin_time = datetime.datetime.now()\n",
    "for i in range(10000):\n",
    "    for j in range(len(african)):\n",
    "        x = who.ratio(id[230000+i], african[african.index[j]])\n",
    "        if x > df3['african'][230000+i]:\n",
    "            df3['african'][230000+i] = x\n",
    "print('time used:', datetime.datetime.now() - begin_time)"
   ]
  },
  {
   "cell_type": "code",
   "execution_count": null,
   "metadata": {},
   "outputs": [],
   "source": [
    "#240000 to 245545\n",
    "begin_time = datetime.datetime.now()\n",
    "for i in range(5545):\n",
    "    for j in range(len(african)):\n",
    "        x = who.ratio(id[240000+i], african[african.index[j]])\n",
    "        if x > df3['african'][240000+i]:\n",
    "            df3['african'][240000+i] = x\n",
    "print('time used:', datetime.datetime.now() - begin_time)"
   ]
  },
  {
   "cell_type": "markdown",
   "metadata": {},
   "source": [
    "After I compared only afican names, it cost me about 20 hours"
   ]
  },
  {
   "cell_type": "code",
   "execution_count": 86,
   "metadata": {
    "scrolled": true
   },
   "outputs": [
    {
     "data": {
      "text/plain": [
       "african\n",
       "0      3189\n",
       "3         1\n",
       "4        23\n",
       "5        66\n",
       "6      3637\n",
       "7      2700\n",
       "8      2537\n",
       "9      3844\n",
       "10     7628\n",
       "11     2462\n",
       "12     9875\n",
       "13    13453\n",
       "14      871\n",
       "15    16799\n",
       "16    27917\n",
       "17     8948\n",
       "18    40904\n",
       "19     1335\n",
       "20    25107\n",
       "21     9100\n",
       "22    19419\n",
       "23     3556\n",
       "25    22537\n",
       "26      147\n",
       "27     4765\n",
       "28     4960\n",
       "30     1463\n",
       "31      509\n",
       "32      463\n",
       "33     1621\n",
       "34       94\n",
       "37     5615\n",
       "dtype: int64"
      ]
     },
     "execution_count": 86,
     "metadata": {},
     "output_type": "execute_result"
    }
   ],
   "source": [
    "gb_african = df3.groupby('african')\n",
    "gb_african.size()"
   ]
  },
  {
   "cell_type": "markdown",
   "metadata": {},
   "source": [
    "This cell represents the percentage groupby, that 5615 names has 37% chance to be an african name, and 3189 names is impossible to be an african name"
   ]
  },
  {
   "cell_type": "code",
   "execution_count": null,
   "metadata": {},
   "outputs": [],
   "source": []
  }
 ],
 "metadata": {
  "kernelspec": {
   "display_name": "Python 3",
   "language": "python",
   "name": "python3"
  },
  "language_info": {
   "codemirror_mode": {
    "name": "ipython",
    "version": 3
   },
   "file_extension": ".py",
   "mimetype": "text/x-python",
   "name": "python",
   "nbconvert_exporter": "python",
   "pygments_lexer": "ipython3",
   "version": "3.7.3"
  }
 },
 "nbformat": 4,
 "nbformat_minor": 2
}
